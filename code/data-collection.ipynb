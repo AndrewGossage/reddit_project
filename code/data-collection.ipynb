{
 "cells": [
  {
   "cell_type": "code",
   "execution_count": 2,
   "id": "cacd8c17-4931-402a-b830-b309d8ff5590",
   "metadata": {},
   "outputs": [],
   "source": [
    "import requests\n",
    "import pandas as pd"
   ]
  },
  {
   "cell_type": "code",
   "execution_count": 3,
   "id": "536ea99f-71c3-433a-afc3-ec729da7e5b2",
   "metadata": {},
   "outputs": [],
   "source": [
    "url = 'https://api.pushshift.io/reddit/search/submission'\n",
    "req = requests.get(url, params={\n",
    "    'subreddit': 'darksouls',\n",
    "    'size': 100\n",
    "    \n",
    "} )"
   ]
  },
  {
   "cell_type": "code",
   "execution_count": 4,
   "id": "975c39ea-2483-46ca-b03f-3810d6a87cb9",
   "metadata": {},
   "outputs": [
    {
     "data": {
      "text/plain": [
       "<Response [200]>"
      ]
     },
     "execution_count": 4,
     "metadata": {},
     "output_type": "execute_result"
    }
   ],
   "source": [
    "req"
   ]
  },
  {
   "cell_type": "code",
   "execution_count": 5,
   "id": "10340b31-e449-411b-9e00-f289b9011944",
   "metadata": {},
   "outputs": [],
   "source": [
    "posts = req.json()['data']"
   ]
  },
  {
   "cell_type": "code",
   "execution_count": 6,
   "id": "c5311b6f-78cd-4de1-af16-a4b6e10dcb4b",
   "metadata": {},
   "outputs": [],
   "source": [
    "foo = int(pd.DataFrame(posts)[['subreddit', 'title', 'selftext', 'created_utc']].tail(1)['created_utc'])"
   ]
  },
  {
   "cell_type": "code",
   "execution_count": 7,
   "id": "e85e77a4-0615-49fa-b3e4-12862343d2a6",
   "metadata": {},
   "outputs": [],
   "source": [
    "url = 'https://api.pushshift.io/reddit/search/submission'\n",
    "req = requests.get(url, params={\n",
    "    'subreddit': 'darksouls',\n",
    "    'size': 100,\n",
    "    'before': foo\n",
    "})"
   ]
  },
  {
   "cell_type": "code",
   "execution_count": 8,
   "id": "4ccc5395-bebc-49bc-840c-a2bb18c42734",
   "metadata": {},
   "outputs": [],
   "source": [
    "posts += req.json()"
   ]
  },
  {
   "cell_type": "code",
   "execution_count": 9,
   "id": "fa75efe6-8c94-4526-aac1-e41562078113",
   "metadata": {},
   "outputs": [],
   "source": [
    "import time\n",
    "import random\n",
    "def get_posts(name = 'darksouls', iters = 1 ):\n",
    "    hundreds = []\n",
    "    before = time.time()\n",
    "    for i in range(iters):\n",
    "        time.sleep(random.randint(1, 5))\n",
    "        url = 'https://api.pushshift.io/reddit/search/submission'\n",
    "        req = requests.get(url, params={\n",
    "            'subreddit': name,\n",
    "            'size': 100,\n",
    "            \n",
    "        } )\n",
    "        hundreds.append(pd.DataFrame(req.json()['data']))\n",
    "        \n",
    "        before = int(pd.DataFrame(req.json()['data'])[['subreddit', 'title', 'selftext', 'created_utc']].tail(1)['created_utc'])\n",
    "    \n",
    "    \n",
    "    return hundreds\n",
    "    \n",
    "darksouls = get_posts(iters=100)\n"
   ]
  },
  {
   "cell_type": "code",
   "execution_count": 16,
   "id": "726f5bab-caa6-4747-8acf-76dc2ffb5281",
   "metadata": {},
   "outputs": [],
   "source": [
    "demonssouls = get_posts(name = 'sekiro',iters=200) "
   ]
  },
  {
   "cell_type": "markdown",
   "id": "364eb891-fccc-447c-82f3-96f87d9a4204",
   "metadata": {},
   "source": [
    "I added more sekiro posts than darksouls posts to account for the fact that sekiro allows image only posts."
   ]
  },
  {
   "cell_type": "code",
   "execution_count": 19,
   "id": "09cdecf1-4876-424e-8714-753aca58bfac",
   "metadata": {},
   "outputs": [],
   "source": [
    "darksouls_df = pd.concat(darksouls)"
   ]
  },
  {
   "cell_type": "code",
   "execution_count": 20,
   "id": "d137885c-8808-402a-b273-96fec9c10d00",
   "metadata": {},
   "outputs": [],
   "source": [
    "demonssouls_df = pd.concat(demonssouls)"
   ]
  },
  {
   "cell_type": "code",
   "execution_count": 21,
   "id": "5fa06fb2-5f28-4f62-945f-8b531783c914",
   "metadata": {},
   "outputs": [],
   "source": [
    "darksouls_df['game'] = 'darksouls'\n",
    "demonssouls_df['game'] = 'sekiro'"
   ]
  },
  {
   "cell_type": "code",
   "execution_count": 22,
   "id": "884993c3-f8d0-4fe9-81df-efb563eb3927",
   "metadata": {},
   "outputs": [],
   "source": [
    "fromsoft = pd.concat([darksouls_df, demonssouls_df])"
   ]
  },
  {
   "cell_type": "code",
   "execution_count": 23,
   "id": "edec867e-83bb-49d5-9045-04a5283c5757",
   "metadata": {},
   "outputs": [],
   "source": [
    "fromsoft.to_csv('../data/reddit.csv', index=False)"
   ]
  },
  {
   "cell_type": "code",
   "execution_count": 24,
   "id": "011aa4b5-0c2b-4522-877f-2d90ed7ffa73",
   "metadata": {},
   "outputs": [
    {
     "data": {
      "text/plain": [
       "(30000, 83)"
      ]
     },
     "execution_count": 24,
     "metadata": {},
     "output_type": "execute_result"
    }
   ],
   "source": [
    "fromsoft.shape"
   ]
  },
  {
   "cell_type": "code",
   "execution_count": null,
   "id": "4a7bbfdb-805b-48c5-8014-c0f101646371",
   "metadata": {},
   "outputs": [],
   "source": []
  }
 ],
 "metadata": {
  "kernelspec": {
   "display_name": "Python 3",
   "language": "python",
   "name": "python3"
  },
  "language_info": {
   "codemirror_mode": {
    "name": "ipython",
    "version": 3
   },
   "file_extension": ".py",
   "mimetype": "text/x-python",
   "name": "python",
   "nbconvert_exporter": "python",
   "pygments_lexer": "ipython3",
   "version": "3.8.8"
  }
 },
 "nbformat": 4,
 "nbformat_minor": 5
}
