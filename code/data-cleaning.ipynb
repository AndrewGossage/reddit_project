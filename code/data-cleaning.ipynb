{
 "cells": [
  {
   "cell_type": "code",
   "execution_count": 1,
   "id": "658fad05-bbf6-4376-a7c8-a14cca23c51b",
   "metadata": {},
   "outputs": [],
   "source": [
    "import pandas as pd\n",
    "import numpy as np"
   ]
  },
  {
   "cell_type": "code",
   "execution_count": 2,
   "id": "14414089-28ce-4c9b-bf37-f261d3f5b594",
   "metadata": {},
   "outputs": [
    {
     "name": "stderr",
     "output_type": "stream",
     "text": [
      "/home/andrew/anaconda3/lib/python3.8/site-packages/IPython/core/interactiveshell.py:3165: DtypeWarning: Columns (3,9,10,27,64,67,68,69,70,73,74,75,76,77,78,79,80,81,82) have mixed types.Specify dtype option on import or set low_memory=False.\n",
      "  has_raised = await self.run_ast_nodes(code_ast.body, cell_name,\n"
     ]
    },
    {
     "data": {
      "text/plain": [
       "(30000, 4)"
      ]
     },
     "execution_count": 2,
     "metadata": {},
     "output_type": "execute_result"
    }
   ],
   "source": [
    "df = pd.read_csv('../data/reddit.csv')[['title', 'subreddit', 'selftext', 'created_utc']]\n",
    "df.shape"
   ]
  },
  {
   "cell_type": "code",
   "execution_count": 3,
   "id": "f7daad58-404b-42a3-a2bb-29eabeb1ab00",
   "metadata": {},
   "outputs": [],
   "source": [
    "df.columns = df.columns.str.lower()\n"
   ]
  },
  {
   "cell_type": "code",
   "execution_count": 4,
   "id": "0e8fccf4-c494-421e-9470-d16fb1dca266",
   "metadata": {},
   "outputs": [
    {
     "data": {
      "text/html": [
       "<div>\n",
       "<style scoped>\n",
       "    .dataframe tbody tr th:only-of-type {\n",
       "        vertical-align: middle;\n",
       "    }\n",
       "\n",
       "    .dataframe tbody tr th {\n",
       "        vertical-align: top;\n",
       "    }\n",
       "\n",
       "    .dataframe thead th {\n",
       "        text-align: right;\n",
       "    }\n",
       "</style>\n",
       "<table border=\"1\" class=\"dataframe\">\n",
       "  <thead>\n",
       "    <tr style=\"text-align: right;\">\n",
       "      <th></th>\n",
       "      <th>title</th>\n",
       "      <th>subreddit</th>\n",
       "      <th>selftext</th>\n",
       "      <th>created_utc</th>\n",
       "    </tr>\n",
       "  </thead>\n",
       "  <tbody>\n",
       "    <tr>\n",
       "      <th>0</th>\n",
       "      <td>Help a knight out pls?!</td>\n",
       "      <td>darksouls</td>\n",
       "      <td>Hey can you guys help me out?? What are the be...</td>\n",
       "      <td>1630950347</td>\n",
       "    </tr>\n",
       "    <tr>\n",
       "      <th>1</th>\n",
       "      <td>Fire weapons?</td>\n",
       "      <td>darksouls</td>\n",
       "      <td>Yeah how do i get a weapon with fire dmg or ot...</td>\n",
       "      <td>1630949405</td>\n",
       "    </tr>\n",
       "    <tr>\n",
       "      <th>2</th>\n",
       "      <td>Iron Golem lore</td>\n",
       "      <td>darksouls</td>\n",
       "      <td>Has anyone found any mentions of the iron gole...</td>\n",
       "      <td>1630949186</td>\n",
       "    </tr>\n",
       "    <tr>\n",
       "      <th>3</th>\n",
       "      <td>I got cursed and have no idea what to do?</td>\n",
       "      <td>darksouls</td>\n",
       "      <td>I recently just defeated the capra demon, went...</td>\n",
       "      <td>1630948149</td>\n",
       "    </tr>\n",
       "    <tr>\n",
       "      <th>4</th>\n",
       "      <td>DS platinum trophy</td>\n",
       "      <td>darksouls</td>\n",
       "      <td>Recently platinumed Dark Souls. Kinda wanted t...</td>\n",
       "      <td>1630948149</td>\n",
       "    </tr>\n",
       "  </tbody>\n",
       "</table>\n",
       "</div>"
      ],
      "text/plain": [
       "                                       title  subreddit  \\\n",
       "0                    Help a knight out pls?!  darksouls   \n",
       "1                              Fire weapons?  darksouls   \n",
       "2                            Iron Golem lore  darksouls   \n",
       "3  I got cursed and have no idea what to do?  darksouls   \n",
       "4                         DS platinum trophy  darksouls   \n",
       "\n",
       "                                            selftext  created_utc  \n",
       "0  Hey can you guys help me out?? What are the be...   1630950347  \n",
       "1  Yeah how do i get a weapon with fire dmg or ot...   1630949405  \n",
       "2  Has anyone found any mentions of the iron gole...   1630949186  \n",
       "3  I recently just defeated the capra demon, went...   1630948149  \n",
       "4  Recently platinumed Dark Souls. Kinda wanted t...   1630948149  "
      ]
     },
     "execution_count": 4,
     "metadata": {},
     "output_type": "execute_result"
    }
   ],
   "source": [
    "df = pd.read_csv('../data/reddit.csv')[['title', 'subreddit', 'selftext', 'created_utc']]\n",
    "df = df [df['selftext'] != '[removed]']\n",
    "df.head()"
   ]
  },
  {
   "cell_type": "code",
   "execution_count": 5,
   "id": "91bd2b67-1f1e-4ac5-9c8b-649cc4dc1911",
   "metadata": {},
   "outputs": [],
   "source": [
    "df['subreddit'] = [sub.lower() for sub in df['subreddit']]"
   ]
  },
  {
   "cell_type": "code",
   "execution_count": 6,
   "id": "7f38fd60-8897-4892-9e47-b32ff6853067",
   "metadata": {},
   "outputs": [
    {
     "data": {
      "text/plain": [
       "(30000, 4)"
      ]
     },
     "execution_count": 6,
     "metadata": {},
     "output_type": "execute_result"
    }
   ],
   "source": [
    "df.shape "
   ]
  },
  {
   "cell_type": "markdown",
   "id": "5f39fad5-9c94-44d1-9eec-abdfa058773e",
   "metadata": {},
   "source": [
    "removing deleted posts lost us nothing that I can see"
   ]
  },
  {
   "cell_type": "code",
   "execution_count": 7,
   "id": "bc9108ce-ffe1-4fab-a3e5-46a6ab42d842",
   "metadata": {},
   "outputs": [
    {
     "data": {
      "text/plain": [
       "title             0\n",
       "subreddit         0\n",
       "selftext       9600\n",
       "created_utc       0\n",
       "dtype: int64"
      ]
     },
     "execution_count": 7,
     "metadata": {},
     "output_type": "execute_result"
    }
   ],
   "source": [
    "df.isnull().sum()\n"
   ]
  },
  {
   "cell_type": "code",
   "execution_count": null,
   "id": "323494d9-a154-43a0-aa35-b3c85fb6c10e",
   "metadata": {},
   "outputs": [],
   "source": []
  },
  {
   "cell_type": "markdown",
   "id": "6302cf2b-daf3-48cf-a7a0-a24640389359",
   "metadata": {},
   "source": [
    "A lot of our posts are missing text it looks like but we can't impute text so we will need to drop them."
   ]
  },
  {
   "cell_type": "code",
   "execution_count": 8,
   "id": "102f6c8b-775e-49e3-9049-b9e72d3b1c34",
   "metadata": {},
   "outputs": [],
   "source": [
    "df = df.dropna()"
   ]
  },
  {
   "cell_type": "code",
   "execution_count": 9,
   "id": "48f3da54-5820-419e-b0f4-bbfb7f6977a9",
   "metadata": {},
   "outputs": [
    {
     "data": {
      "text/plain": [
       "(20400, 4)"
      ]
     },
     "execution_count": 9,
     "metadata": {},
     "output_type": "execute_result"
    }
   ],
   "source": [
    "df.shape"
   ]
  },
  {
   "cell_type": "code",
   "execution_count": null,
   "id": "3a55d8c4-1b10-4b98-b824-4082285fd23d",
   "metadata": {},
   "outputs": [],
   "source": []
  },
  {
   "cell_type": "code",
   "execution_count": 10,
   "id": "a91a51e1-e165-411c-8568-d3e18229e987",
   "metadata": {},
   "outputs": [],
   "source": [
    "df.to_csv('../data/reddit_munged.csv', index=False)"
   ]
  },
  {
   "cell_type": "code",
   "execution_count": null,
   "id": "18f1dd7c-1ee4-4972-b8d3-81b7f341a09d",
   "metadata": {},
   "outputs": [],
   "source": []
  }
 ],
 "metadata": {
  "kernelspec": {
   "display_name": "Python 3",
   "language": "python",
   "name": "python3"
  },
  "language_info": {
   "codemirror_mode": {
    "name": "ipython",
    "version": 3
   },
   "file_extension": ".py",
   "mimetype": "text/x-python",
   "name": "python",
   "nbconvert_exporter": "python",
   "pygments_lexer": "ipython3",
   "version": "3.8.8"
  }
 },
 "nbformat": 4,
 "nbformat_minor": 5
}
