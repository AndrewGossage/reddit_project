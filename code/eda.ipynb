{
 "cells": [
  {
   "cell_type": "code",
   "execution_count": 2,
   "id": "f177bc89-3055-4a7e-8aa5-0759120f9f3a",
   "metadata": {},
   "outputs": [],
   "source": [
    "import pickle\n",
    "import pandas as pd\n",
    "import matplotlib.pyplot as plt \n",
    "import seaborn as sns\n",
    "import numpy as np\n",
    "%matplotlib inline"
   ]
  },
  {
   "cell_type": "code",
   "execution_count": 3,
   "id": "a325cf3f-d1f0-4998-96c2-b02ea8f78805",
   "metadata": {},
   "outputs": [],
   "source": [
    "with open('../pickels/dataformated.pkl', 'rb') as data_in:\n",
    "    df = pickle.load(data_in)"
   ]
  },
  {
   "cell_type": "code",
   "execution_count": 4,
   "id": "8141ed92-a987-479c-9c21-f12bb918a249",
   "metadata": {},
   "outputs": [],
   "source": [
    "df['subreddit'] = df['subreddit'].map({1:1, np.nan:0})"
   ]
  },
  {
   "cell_type": "code",
   "execution_count": 5,
   "id": "86681715-38ac-43a2-a2b9-f139bb847a73",
   "metadata": {},
   "outputs": [],
   "source": [
    "df_ds = df[df['subreddit'] == 1]\n",
    "df_sd2 = df[df['subreddit'] == 0]"
   ]
  },
  {
   "cell_type": "code",
   "execution_count": 6,
   "id": "33cbd112-e17e-4571-aa83-f43d32625ba2",
   "metadata": {},
   "outputs": [
    {
     "data": {
      "text/html": [
       "<div>\n",
       "<style scoped>\n",
       "    .dataframe tbody tr th:only-of-type {\n",
       "        vertical-align: middle;\n",
       "    }\n",
       "\n",
       "    .dataframe tbody tr th {\n",
       "        vertical-align: top;\n",
       "    }\n",
       "\n",
       "    .dataframe thead th {\n",
       "        text-align: right;\n",
       "    }\n",
       "</style>\n",
       "<table border=\"1\" class=\"dataframe\">\n",
       "  <thead>\n",
       "    <tr style=\"text-align: right;\">\n",
       "      <th></th>\n",
       "      <th>2nd</th>\n",
       "      <th>5600xt</th>\n",
       "      <th>able</th>\n",
       "      <th>advice</th>\n",
       "      <th>advise</th>\n",
       "      <th>amp</th>\n",
       "      <th>appearance</th>\n",
       "      <th>armor</th>\n",
       "      <th>armored</th>\n",
       "      <th>ash</th>\n",
       "      <th>...</th>\n",
       "      <th>warrior</th>\n",
       "      <th>waters</th>\n",
       "      <th>weapon</th>\n",
       "      <th>weapons</th>\n",
       "      <th>white</th>\n",
       "      <th>won</th>\n",
       "      <th>work</th>\n",
       "      <th>world</th>\n",
       "      <th>worth</th>\n",
       "      <th>subreddit</th>\n",
       "    </tr>\n",
       "  </thead>\n",
       "  <tbody>\n",
       "    <tr>\n",
       "      <th>6</th>\n",
       "      <td>0</td>\n",
       "      <td>0</td>\n",
       "      <td>0</td>\n",
       "      <td>0</td>\n",
       "      <td>0</td>\n",
       "      <td>0</td>\n",
       "      <td>0</td>\n",
       "      <td>0</td>\n",
       "      <td>0</td>\n",
       "      <td>0</td>\n",
       "      <td>...</td>\n",
       "      <td>0</td>\n",
       "      <td>0</td>\n",
       "      <td>0</td>\n",
       "      <td>0</td>\n",
       "      <td>0</td>\n",
       "      <td>0</td>\n",
       "      <td>0</td>\n",
       "      <td>1</td>\n",
       "      <td>0</td>\n",
       "      <td>0.0</td>\n",
       "    </tr>\n",
       "    <tr>\n",
       "      <th>9</th>\n",
       "      <td>0</td>\n",
       "      <td>0</td>\n",
       "      <td>0</td>\n",
       "      <td>0</td>\n",
       "      <td>0</td>\n",
       "      <td>0</td>\n",
       "      <td>0</td>\n",
       "      <td>0</td>\n",
       "      <td>0</td>\n",
       "      <td>0</td>\n",
       "      <td>...</td>\n",
       "      <td>0</td>\n",
       "      <td>0</td>\n",
       "      <td>0</td>\n",
       "      <td>0</td>\n",
       "      <td>0</td>\n",
       "      <td>0</td>\n",
       "      <td>0</td>\n",
       "      <td>0</td>\n",
       "      <td>0</td>\n",
       "      <td>0.0</td>\n",
       "    </tr>\n",
       "    <tr>\n",
       "      <th>14</th>\n",
       "      <td>0</td>\n",
       "      <td>0</td>\n",
       "      <td>0</td>\n",
       "      <td>0</td>\n",
       "      <td>0</td>\n",
       "      <td>0</td>\n",
       "      <td>0</td>\n",
       "      <td>0</td>\n",
       "      <td>0</td>\n",
       "      <td>0</td>\n",
       "      <td>...</td>\n",
       "      <td>0</td>\n",
       "      <td>0</td>\n",
       "      <td>0</td>\n",
       "      <td>0</td>\n",
       "      <td>0</td>\n",
       "      <td>0</td>\n",
       "      <td>0</td>\n",
       "      <td>0</td>\n",
       "      <td>0</td>\n",
       "      <td>0.0</td>\n",
       "    </tr>\n",
       "    <tr>\n",
       "      <th>16</th>\n",
       "      <td>0</td>\n",
       "      <td>0</td>\n",
       "      <td>0</td>\n",
       "      <td>0</td>\n",
       "      <td>0</td>\n",
       "      <td>0</td>\n",
       "      <td>0</td>\n",
       "      <td>0</td>\n",
       "      <td>0</td>\n",
       "      <td>0</td>\n",
       "      <td>...</td>\n",
       "      <td>0</td>\n",
       "      <td>0</td>\n",
       "      <td>0</td>\n",
       "      <td>0</td>\n",
       "      <td>0</td>\n",
       "      <td>0</td>\n",
       "      <td>0</td>\n",
       "      <td>0</td>\n",
       "      <td>0</td>\n",
       "      <td>0.0</td>\n",
       "    </tr>\n",
       "    <tr>\n",
       "      <th>18</th>\n",
       "      <td>0</td>\n",
       "      <td>0</td>\n",
       "      <td>0</td>\n",
       "      <td>0</td>\n",
       "      <td>0</td>\n",
       "      <td>0</td>\n",
       "      <td>0</td>\n",
       "      <td>0</td>\n",
       "      <td>0</td>\n",
       "      <td>0</td>\n",
       "      <td>...</td>\n",
       "      <td>0</td>\n",
       "      <td>0</td>\n",
       "      <td>0</td>\n",
       "      <td>0</td>\n",
       "      <td>0</td>\n",
       "      <td>0</td>\n",
       "      <td>0</td>\n",
       "      <td>0</td>\n",
       "      <td>0</td>\n",
       "      <td>0.0</td>\n",
       "    </tr>\n",
       "    <tr>\n",
       "      <th>...</th>\n",
       "      <td>...</td>\n",
       "      <td>...</td>\n",
       "      <td>...</td>\n",
       "      <td>...</td>\n",
       "      <td>...</td>\n",
       "      <td>...</td>\n",
       "      <td>...</td>\n",
       "      <td>...</td>\n",
       "      <td>...</td>\n",
       "      <td>...</td>\n",
       "      <td>...</td>\n",
       "      <td>...</td>\n",
       "      <td>...</td>\n",
       "      <td>...</td>\n",
       "      <td>...</td>\n",
       "      <td>...</td>\n",
       "      <td>...</td>\n",
       "      <td>...</td>\n",
       "      <td>...</td>\n",
       "      <td>...</td>\n",
       "      <td>...</td>\n",
       "    </tr>\n",
       "    <tr>\n",
       "      <th>5095</th>\n",
       "      <td>0</td>\n",
       "      <td>0</td>\n",
       "      <td>0</td>\n",
       "      <td>0</td>\n",
       "      <td>0</td>\n",
       "      <td>0</td>\n",
       "      <td>0</td>\n",
       "      <td>0</td>\n",
       "      <td>0</td>\n",
       "      <td>0</td>\n",
       "      <td>...</td>\n",
       "      <td>0</td>\n",
       "      <td>0</td>\n",
       "      <td>0</td>\n",
       "      <td>0</td>\n",
       "      <td>0</td>\n",
       "      <td>0</td>\n",
       "      <td>0</td>\n",
       "      <td>0</td>\n",
       "      <td>0</td>\n",
       "      <td>0.0</td>\n",
       "    </tr>\n",
       "    <tr>\n",
       "      <th>5096</th>\n",
       "      <td>0</td>\n",
       "      <td>0</td>\n",
       "      <td>0</td>\n",
       "      <td>0</td>\n",
       "      <td>0</td>\n",
       "      <td>0</td>\n",
       "      <td>0</td>\n",
       "      <td>0</td>\n",
       "      <td>0</td>\n",
       "      <td>0</td>\n",
       "      <td>...</td>\n",
       "      <td>0</td>\n",
       "      <td>0</td>\n",
       "      <td>0</td>\n",
       "      <td>0</td>\n",
       "      <td>0</td>\n",
       "      <td>0</td>\n",
       "      <td>0</td>\n",
       "      <td>0</td>\n",
       "      <td>0</td>\n",
       "      <td>0.0</td>\n",
       "    </tr>\n",
       "    <tr>\n",
       "      <th>5097</th>\n",
       "      <td>0</td>\n",
       "      <td>0</td>\n",
       "      <td>0</td>\n",
       "      <td>0</td>\n",
       "      <td>0</td>\n",
       "      <td>0</td>\n",
       "      <td>0</td>\n",
       "      <td>0</td>\n",
       "      <td>0</td>\n",
       "      <td>0</td>\n",
       "      <td>...</td>\n",
       "      <td>0</td>\n",
       "      <td>0</td>\n",
       "      <td>0</td>\n",
       "      <td>0</td>\n",
       "      <td>0</td>\n",
       "      <td>0</td>\n",
       "      <td>0</td>\n",
       "      <td>0</td>\n",
       "      <td>0</td>\n",
       "      <td>0.0</td>\n",
       "    </tr>\n",
       "    <tr>\n",
       "      <th>5098</th>\n",
       "      <td>0</td>\n",
       "      <td>0</td>\n",
       "      <td>0</td>\n",
       "      <td>0</td>\n",
       "      <td>0</td>\n",
       "      <td>0</td>\n",
       "      <td>0</td>\n",
       "      <td>0</td>\n",
       "      <td>0</td>\n",
       "      <td>0</td>\n",
       "      <td>...</td>\n",
       "      <td>0</td>\n",
       "      <td>0</td>\n",
       "      <td>0</td>\n",
       "      <td>0</td>\n",
       "      <td>0</td>\n",
       "      <td>0</td>\n",
       "      <td>0</td>\n",
       "      <td>0</td>\n",
       "      <td>0</td>\n",
       "      <td>0.0</td>\n",
       "    </tr>\n",
       "    <tr>\n",
       "      <th>5099</th>\n",
       "      <td>0</td>\n",
       "      <td>0</td>\n",
       "      <td>0</td>\n",
       "      <td>0</td>\n",
       "      <td>0</td>\n",
       "      <td>0</td>\n",
       "      <td>0</td>\n",
       "      <td>0</td>\n",
       "      <td>0</td>\n",
       "      <td>0</td>\n",
       "      <td>...</td>\n",
       "      <td>0</td>\n",
       "      <td>0</td>\n",
       "      <td>0</td>\n",
       "      <td>0</td>\n",
       "      <td>0</td>\n",
       "      <td>0</td>\n",
       "      <td>0</td>\n",
       "      <td>0</td>\n",
       "      <td>0</td>\n",
       "      <td>0.0</td>\n",
       "    </tr>\n",
       "  </tbody>\n",
       "</table>\n",
       "<p>7646 rows × 190 columns</p>\n",
       "</div>"
      ],
      "text/plain": [
       "      2nd  5600xt  able  advice  advise  amp  appearance  armor  armored  ash  \\\n",
       "6       0       0     0       0       0    0           0      0        0    0   \n",
       "9       0       0     0       0       0    0           0      0        0    0   \n",
       "14      0       0     0       0       0    0           0      0        0    0   \n",
       "16      0       0     0       0       0    0           0      0        0    0   \n",
       "18      0       0     0       0       0    0           0      0        0    0   \n",
       "...   ...     ...   ...     ...     ...  ...         ...    ...      ...  ...   \n",
       "5095    0       0     0       0       0    0           0      0        0    0   \n",
       "5096    0       0     0       0       0    0           0      0        0    0   \n",
       "5097    0       0     0       0       0    0           0      0        0    0   \n",
       "5098    0       0     0       0       0    0           0      0        0    0   \n",
       "5099    0       0     0       0       0    0           0      0        0    0   \n",
       "\n",
       "      ...  warrior  waters  weapon  weapons  white  won  work  world  worth  \\\n",
       "6     ...        0       0       0        0      0    0     0      1      0   \n",
       "9     ...        0       0       0        0      0    0     0      0      0   \n",
       "14    ...        0       0       0        0      0    0     0      0      0   \n",
       "16    ...        0       0       0        0      0    0     0      0      0   \n",
       "18    ...        0       0       0        0      0    0     0      0      0   \n",
       "...   ...      ...     ...     ...      ...    ...  ...   ...    ...    ...   \n",
       "5095  ...        0       0       0        0      0    0     0      0      0   \n",
       "5096  ...        0       0       0        0      0    0     0      0      0   \n",
       "5097  ...        0       0       0        0      0    0     0      0      0   \n",
       "5098  ...        0       0       0        0      0    0     0      0      0   \n",
       "5099  ...        0       0       0        0      0    0     0      0      0   \n",
       "\n",
       "      subreddit  \n",
       "6           0.0  \n",
       "9           0.0  \n",
       "14          0.0  \n",
       "16          0.0  \n",
       "18          0.0  \n",
       "...         ...  \n",
       "5095        0.0  \n",
       "5096        0.0  \n",
       "5097        0.0  \n",
       "5098        0.0  \n",
       "5099        0.0  \n",
       "\n",
       "[7646 rows x 190 columns]"
      ]
     },
     "execution_count": 6,
     "metadata": {},
     "output_type": "execute_result"
    }
   ],
   "source": [
    "df_sd2"
   ]
  },
  {
   "cell_type": "markdown",
   "id": "ecd864e5-4d5c-4354-b0b4-36e98118717f",
   "metadata": {},
   "source": [
    "<h2>Examining Word counts to determine importance</h2>"
   ]
  },
  {
   "cell_type": "code",
   "execution_count": null,
   "id": "e745bc21-94f2-49a0-8352-74213c9e9af5",
   "metadata": {},
   "outputs": [],
   "source": []
  },
  {
   "cell_type": "code",
   "execution_count": 7,
   "id": "5ee9d2d8-b528-46d3-9b19-7b30f107b554",
   "metadata": {},
   "outputs": [
    {
     "data": {
      "text/html": [
       "<div>\n",
       "<style scoped>\n",
       "    .dataframe tbody tr th:only-of-type {\n",
       "        vertical-align: middle;\n",
       "    }\n",
       "\n",
       "    .dataframe tbody tr th {\n",
       "        vertical-align: top;\n",
       "    }\n",
       "\n",
       "    .dataframe thead th {\n",
       "        text-align: right;\n",
       "    }\n",
       "</style>\n",
       "<table border=\"1\" class=\"dataframe\">\n",
       "  <thead>\n",
       "    <tr style=\"text-align: right;\">\n",
       "      <th></th>\n",
       "      <th>count</th>\n",
       "    </tr>\n",
       "  </thead>\n",
       "  <tbody>\n",
       "    <tr>\n",
       "      <th>subreddit</th>\n",
       "      <td>8736.0</td>\n",
       "    </tr>\n",
       "    <tr>\n",
       "      <th>sword</th>\n",
       "      <td>316.0</td>\n",
       "    </tr>\n",
       "    <tr>\n",
       "      <th>does</th>\n",
       "      <td>238.0</td>\n",
       "    </tr>\n",
       "    <tr>\n",
       "      <th>second</th>\n",
       "      <td>237.0</td>\n",
       "    </tr>\n",
       "    <tr>\n",
       "      <th>try</th>\n",
       "      <td>234.0</td>\n",
       "    </tr>\n",
       "    <tr>\n",
       "      <th>good</th>\n",
       "      <td>224.0</td>\n",
       "    </tr>\n",
       "    <tr>\n",
       "      <th>better</th>\n",
       "      <td>218.0</td>\n",
       "    </tr>\n",
       "    <tr>\n",
       "      <th>parry</th>\n",
       "      <td>210.0</td>\n",
       "    </tr>\n",
       "    <tr>\n",
       "      <th>butterfly</th>\n",
       "      <td>208.0</td>\n",
       "    </tr>\n",
       "    <tr>\n",
       "      <th>soul</th>\n",
       "      <td>187.0</td>\n",
       "    </tr>\n",
       "    <tr>\n",
       "      <th>glitch</th>\n",
       "      <td>181.0</td>\n",
       "    </tr>\n",
       "    <tr>\n",
       "      <th>dlc</th>\n",
       "      <td>179.0</td>\n",
       "    </tr>\n",
       "    <tr>\n",
       "      <th>demon</th>\n",
       "      <td>178.0</td>\n",
       "    </tr>\n",
       "    <tr>\n",
       "      <th>question</th>\n",
       "      <td>176.0</td>\n",
       "    </tr>\n",
       "    <tr>\n",
       "      <th>ds1</th>\n",
       "      <td>175.0</td>\n",
       "    </tr>\n",
       "  </tbody>\n",
       "</table>\n",
       "</div>"
      ],
      "text/plain": [
       "            count\n",
       "subreddit  8736.0\n",
       "sword       316.0\n",
       "does        238.0\n",
       "second      237.0\n",
       "try         234.0\n",
       "good        224.0\n",
       "better      218.0\n",
       "parry       210.0\n",
       "butterfly   208.0\n",
       "soul        187.0\n",
       "glitch      181.0\n",
       "dlc         179.0\n",
       "demon       178.0\n",
       "question    176.0\n",
       "ds1         175.0"
      ]
     },
     "execution_count": 7,
     "metadata": {},
     "output_type": "execute_result"
    }
   ],
   "source": [
    "\n",
    "ds_counts = pd.DataFrame(df_ds.sum(axis=0), columns = ['count'])\n",
    "\n",
    "ds_counts.sort_values('count', ascending=False).head(15)"
   ]
  },
  {
   "cell_type": "code",
   "execution_count": 8,
   "id": "68782d34-351e-4662-8211-3c2958f9f672",
   "metadata": {},
   "outputs": [
    {
     "data": {
      "text/html": [
       "<div>\n",
       "<style scoped>\n",
       "    .dataframe tbody tr th:only-of-type {\n",
       "        vertical-align: middle;\n",
       "    }\n",
       "\n",
       "    .dataframe tbody tr th {\n",
       "        vertical-align: top;\n",
       "    }\n",
       "\n",
       "    .dataframe thead th {\n",
       "        text-align: right;\n",
       "    }\n",
       "</style>\n",
       "<table border=\"1\" class=\"dataframe\">\n",
       "  <thead>\n",
       "    <tr style=\"text-align: right;\">\n",
       "      <th></th>\n",
       "      <th>count</th>\n",
       "    </tr>\n",
       "  </thead>\n",
       "  <tbody>\n",
       "    <tr>\n",
       "      <th>sword</th>\n",
       "      <td>249.0</td>\n",
       "    </tr>\n",
       "    <tr>\n",
       "      <th>does</th>\n",
       "      <td>247.0</td>\n",
       "    </tr>\n",
       "    <tr>\n",
       "      <th>parry</th>\n",
       "      <td>197.0</td>\n",
       "    </tr>\n",
       "    <tr>\n",
       "      <th>better</th>\n",
       "      <td>190.0</td>\n",
       "    </tr>\n",
       "    <tr>\n",
       "      <th>butterfly</th>\n",
       "      <td>182.0</td>\n",
       "    </tr>\n",
       "    <tr>\n",
       "      <th>good</th>\n",
       "      <td>181.0</td>\n",
       "    </tr>\n",
       "    <tr>\n",
       "      <th>try</th>\n",
       "      <td>176.0</td>\n",
       "    </tr>\n",
       "    <tr>\n",
       "      <th>times</th>\n",
       "      <td>172.0</td>\n",
       "    </tr>\n",
       "    <tr>\n",
       "      <th>attack</th>\n",
       "      <td>172.0</td>\n",
       "    </tr>\n",
       "    <tr>\n",
       "      <th>getting</th>\n",
       "      <td>169.0</td>\n",
       "    </tr>\n",
       "    <tr>\n",
       "      <th>advice</th>\n",
       "      <td>167.0</td>\n",
       "    </tr>\n",
       "    <tr>\n",
       "      <th>second</th>\n",
       "      <td>167.0</td>\n",
       "    </tr>\n",
       "    <tr>\n",
       "      <th>lore</th>\n",
       "      <td>163.0</td>\n",
       "    </tr>\n",
       "    <tr>\n",
       "      <th>farm</th>\n",
       "      <td>162.0</td>\n",
       "    </tr>\n",
       "    <tr>\n",
       "      <th>tips</th>\n",
       "      <td>157.0</td>\n",
       "    </tr>\n",
       "  </tbody>\n",
       "</table>\n",
       "</div>"
      ],
      "text/plain": [
       "           count\n",
       "sword      249.0\n",
       "does       247.0\n",
       "parry      197.0\n",
       "better     190.0\n",
       "butterfly  182.0\n",
       "good       181.0\n",
       "try        176.0\n",
       "times      172.0\n",
       "attack     172.0\n",
       "getting    169.0\n",
       "advice     167.0\n",
       "second     167.0\n",
       "lore       163.0\n",
       "farm       162.0\n",
       "tips       157.0"
      ]
     },
     "execution_count": 8,
     "metadata": {},
     "output_type": "execute_result"
    }
   ],
   "source": [
    "sd2_counts = pd.DataFrame(df_sd2.sum(axis=0), columns = ['count'])\n",
    "\n",
    "sd2_counts.sort_values('count', ascending=False).head(15)"
   ]
  },
  {
   "cell_type": "code",
   "execution_count": 44,
   "id": "da2fbd58-964b-4ad2-832f-d0ffdc944729",
   "metadata": {},
   "outputs": [
    {
     "data": {
      "text/html": [
       "<div>\n",
       "<style scoped>\n",
       "    .dataframe tbody tr th:only-of-type {\n",
       "        vertical-align: middle;\n",
       "    }\n",
       "\n",
       "    .dataframe tbody tr th {\n",
       "        vertical-align: top;\n",
       "    }\n",
       "\n",
       "    .dataframe thead th {\n",
       "        text-align: right;\n",
       "    }\n",
       "</style>\n",
       "<table border=\"1\" class=\"dataframe\">\n",
       "  <thead>\n",
       "    <tr style=\"text-align: right;\">\n",
       "      <th></th>\n",
       "      <th>count</th>\n",
       "      <th>dark_souls</th>\n",
       "      <th>sekiro</th>\n",
       "      <th>gap</th>\n",
       "    </tr>\n",
       "  </thead>\n",
       "  <tbody>\n",
       "    <tr>\n",
       "      <th>subreddit</th>\n",
       "      <td>8736.0</td>\n",
       "      <td>8736.0</td>\n",
       "      <td>0.0</td>\n",
       "      <td>8736.0</td>\n",
       "    </tr>\n",
       "    <tr>\n",
       "      <th>sword</th>\n",
       "      <td>565.0</td>\n",
       "      <td>316.0</td>\n",
       "      <td>249.0</td>\n",
       "      <td>67.0</td>\n",
       "    </tr>\n",
       "    <tr>\n",
       "      <th>does</th>\n",
       "      <td>485.0</td>\n",
       "      <td>238.0</td>\n",
       "      <td>247.0</td>\n",
       "      <td>9.0</td>\n",
       "    </tr>\n",
       "    <tr>\n",
       "      <th>try</th>\n",
       "      <td>410.0</td>\n",
       "      <td>234.0</td>\n",
       "      <td>176.0</td>\n",
       "      <td>58.0</td>\n",
       "    </tr>\n",
       "    <tr>\n",
       "      <th>better</th>\n",
       "      <td>408.0</td>\n",
       "      <td>218.0</td>\n",
       "      <td>190.0</td>\n",
       "      <td>28.0</td>\n",
       "    </tr>\n",
       "    <tr>\n",
       "      <th>parry</th>\n",
       "      <td>407.0</td>\n",
       "      <td>210.0</td>\n",
       "      <td>197.0</td>\n",
       "      <td>13.0</td>\n",
       "    </tr>\n",
       "    <tr>\n",
       "      <th>good</th>\n",
       "      <td>405.0</td>\n",
       "      <td>224.0</td>\n",
       "      <td>181.0</td>\n",
       "      <td>43.0</td>\n",
       "    </tr>\n",
       "    <tr>\n",
       "      <th>second</th>\n",
       "      <td>404.0</td>\n",
       "      <td>237.0</td>\n",
       "      <td>167.0</td>\n",
       "      <td>70.0</td>\n",
       "    </tr>\n",
       "    <tr>\n",
       "      <th>butterfly</th>\n",
       "      <td>390.0</td>\n",
       "      <td>208.0</td>\n",
       "      <td>182.0</td>\n",
       "      <td>26.0</td>\n",
       "    </tr>\n",
       "    <tr>\n",
       "      <th>times</th>\n",
       "      <td>336.0</td>\n",
       "      <td>164.0</td>\n",
       "      <td>172.0</td>\n",
       "      <td>8.0</td>\n",
       "    </tr>\n",
       "  </tbody>\n",
       "</table>\n",
       "</div>"
      ],
      "text/plain": [
       "            count  dark_souls  sekiro     gap\n",
       "subreddit  8736.0      8736.0     0.0  8736.0\n",
       "sword       565.0       316.0   249.0    67.0\n",
       "does        485.0       238.0   247.0     9.0\n",
       "try         410.0       234.0   176.0    58.0\n",
       "better      408.0       218.0   190.0    28.0\n",
       "parry       407.0       210.0   197.0    13.0\n",
       "good        405.0       224.0   181.0    43.0\n",
       "second      404.0       237.0   167.0    70.0\n",
       "butterfly   390.0       208.0   182.0    26.0\n",
       "times       336.0       164.0   172.0     8.0"
      ]
     },
     "execution_count": 44,
     "metadata": {},
     "output_type": "execute_result"
    }
   ],
   "source": [
    "df_counts = pd.DataFrame(df.sum(axis=0), columns = ['count'])\n",
    "df_counts['dark_souls'] = [ds_counts.loc[word, 'count'] for word in df_counts.index]\n",
    "df_counts['sekiro'] = [sd2_counts.loc[word, 'count'] for word in df_counts.index]\n",
    "df_counts['count'] = df_counts['sekiro'] + df_counts['dark_souls']\n",
    "df_counts['gap'] = abs(df_counts['sekiro'] - df_counts['dark_souls'])\n",
    "df_counts.sort_values('count', ascending = False).head(10)"
   ]
  },
  {
   "cell_type": "code",
   "execution_count": 48,
   "id": "3d962045-0bfc-4322-8ec3-152ae51fac50",
   "metadata": {},
   "outputs": [
    {
     "data": {
      "text/html": [
       "<div>\n",
       "<style scoped>\n",
       "    .dataframe tbody tr th:only-of-type {\n",
       "        vertical-align: middle;\n",
       "    }\n",
       "\n",
       "    .dataframe tbody tr th {\n",
       "        vertical-align: top;\n",
       "    }\n",
       "\n",
       "    .dataframe thead th {\n",
       "        text-align: right;\n",
       "    }\n",
       "</style>\n",
       "<table border=\"1\" class=\"dataframe\">\n",
       "  <thead>\n",
       "    <tr style=\"text-align: right;\">\n",
       "      <th></th>\n",
       "      <th>count</th>\n",
       "      <th>dark_souls</th>\n",
       "      <th>sekiro</th>\n",
       "      <th>gap</th>\n",
       "    </tr>\n",
       "  </thead>\n",
       "  <tbody>\n",
       "    <tr>\n",
       "      <th>sword</th>\n",
       "      <td>565.0</td>\n",
       "      <td>316.0</td>\n",
       "      <td>249.0</td>\n",
       "      <td>67.0</td>\n",
       "    </tr>\n",
       "    <tr>\n",
       "      <th>does</th>\n",
       "      <td>485.0</td>\n",
       "      <td>238.0</td>\n",
       "      <td>247.0</td>\n",
       "      <td>9.0</td>\n",
       "    </tr>\n",
       "    <tr>\n",
       "      <th>parry</th>\n",
       "      <td>407.0</td>\n",
       "      <td>210.0</td>\n",
       "      <td>197.0</td>\n",
       "      <td>13.0</td>\n",
       "    </tr>\n",
       "    <tr>\n",
       "      <th>better</th>\n",
       "      <td>408.0</td>\n",
       "      <td>218.0</td>\n",
       "      <td>190.0</td>\n",
       "      <td>28.0</td>\n",
       "    </tr>\n",
       "    <tr>\n",
       "      <th>butterfly</th>\n",
       "      <td>390.0</td>\n",
       "      <td>208.0</td>\n",
       "      <td>182.0</td>\n",
       "      <td>26.0</td>\n",
       "    </tr>\n",
       "    <tr>\n",
       "      <th>good</th>\n",
       "      <td>405.0</td>\n",
       "      <td>224.0</td>\n",
       "      <td>181.0</td>\n",
       "      <td>43.0</td>\n",
       "    </tr>\n",
       "    <tr>\n",
       "      <th>try</th>\n",
       "      <td>410.0</td>\n",
       "      <td>234.0</td>\n",
       "      <td>176.0</td>\n",
       "      <td>58.0</td>\n",
       "    </tr>\n",
       "    <tr>\n",
       "      <th>times</th>\n",
       "      <td>336.0</td>\n",
       "      <td>164.0</td>\n",
       "      <td>172.0</td>\n",
       "      <td>8.0</td>\n",
       "    </tr>\n",
       "    <tr>\n",
       "      <th>attack</th>\n",
       "      <td>336.0</td>\n",
       "      <td>164.0</td>\n",
       "      <td>172.0</td>\n",
       "      <td>8.0</td>\n",
       "    </tr>\n",
       "    <tr>\n",
       "      <th>getting</th>\n",
       "      <td>324.0</td>\n",
       "      <td>155.0</td>\n",
       "      <td>169.0</td>\n",
       "      <td>14.0</td>\n",
       "    </tr>\n",
       "  </tbody>\n",
       "</table>\n",
       "</div>"
      ],
      "text/plain": [
       "           count  dark_souls  sekiro   gap\n",
       "sword      565.0       316.0   249.0  67.0\n",
       "does       485.0       238.0   247.0   9.0\n",
       "parry      407.0       210.0   197.0  13.0\n",
       "better     408.0       218.0   190.0  28.0\n",
       "butterfly  390.0       208.0   182.0  26.0\n",
       "good       405.0       224.0   181.0  43.0\n",
       "try        410.0       234.0   176.0  58.0\n",
       "times      336.0       164.0   172.0   8.0\n",
       "attack     336.0       164.0   172.0   8.0\n",
       "getting    324.0       155.0   169.0  14.0"
      ]
     },
     "execution_count": 48,
     "metadata": {},
     "output_type": "execute_result"
    }
   ],
   "source": [
    "df_counts.sort_values('sekiro', ascending = False).head(10)"
   ]
  },
  {
   "cell_type": "code",
   "execution_count": 51,
   "id": "818938f5-ab85-4753-ad8a-a7b392cf5e98",
   "metadata": {},
   "outputs": [
    {
     "data": {
      "text/html": [
       "<div>\n",
       "<style scoped>\n",
       "    .dataframe tbody tr th:only-of-type {\n",
       "        vertical-align: middle;\n",
       "    }\n",
       "\n",
       "    .dataframe tbody tr th {\n",
       "        vertical-align: top;\n",
       "    }\n",
       "\n",
       "    .dataframe thead th {\n",
       "        text-align: right;\n",
       "    }\n",
       "</style>\n",
       "<table border=\"1\" class=\"dataframe\">\n",
       "  <thead>\n",
       "    <tr style=\"text-align: right;\">\n",
       "      <th></th>\n",
       "      <th>count</th>\n",
       "      <th>dark_souls</th>\n",
       "      <th>sekiro</th>\n",
       "      <th>gap</th>\n",
       "    </tr>\n",
       "  </thead>\n",
       "  <tbody>\n",
       "    <tr>\n",
       "      <th>subreddit</th>\n",
       "      <td>8736.0</td>\n",
       "      <td>8736.0</td>\n",
       "      <td>0.0</td>\n",
       "      <td>8736.0</td>\n",
       "    </tr>\n",
       "    <tr>\n",
       "      <th>sword</th>\n",
       "      <td>565.0</td>\n",
       "      <td>316.0</td>\n",
       "      <td>249.0</td>\n",
       "      <td>67.0</td>\n",
       "    </tr>\n",
       "    <tr>\n",
       "      <th>does</th>\n",
       "      <td>485.0</td>\n",
       "      <td>238.0</td>\n",
       "      <td>247.0</td>\n",
       "      <td>9.0</td>\n",
       "    </tr>\n",
       "    <tr>\n",
       "      <th>second</th>\n",
       "      <td>404.0</td>\n",
       "      <td>237.0</td>\n",
       "      <td>167.0</td>\n",
       "      <td>70.0</td>\n",
       "    </tr>\n",
       "    <tr>\n",
       "      <th>try</th>\n",
       "      <td>410.0</td>\n",
       "      <td>234.0</td>\n",
       "      <td>176.0</td>\n",
       "      <td>58.0</td>\n",
       "    </tr>\n",
       "    <tr>\n",
       "      <th>good</th>\n",
       "      <td>405.0</td>\n",
       "      <td>224.0</td>\n",
       "      <td>181.0</td>\n",
       "      <td>43.0</td>\n",
       "    </tr>\n",
       "    <tr>\n",
       "      <th>better</th>\n",
       "      <td>408.0</td>\n",
       "      <td>218.0</td>\n",
       "      <td>190.0</td>\n",
       "      <td>28.0</td>\n",
       "    </tr>\n",
       "    <tr>\n",
       "      <th>parry</th>\n",
       "      <td>407.0</td>\n",
       "      <td>210.0</td>\n",
       "      <td>197.0</td>\n",
       "      <td>13.0</td>\n",
       "    </tr>\n",
       "    <tr>\n",
       "      <th>butterfly</th>\n",
       "      <td>390.0</td>\n",
       "      <td>208.0</td>\n",
       "      <td>182.0</td>\n",
       "      <td>26.0</td>\n",
       "    </tr>\n",
       "    <tr>\n",
       "      <th>soul</th>\n",
       "      <td>313.0</td>\n",
       "      <td>187.0</td>\n",
       "      <td>126.0</td>\n",
       "      <td>61.0</td>\n",
       "    </tr>\n",
       "  </tbody>\n",
       "</table>\n",
       "</div>"
      ],
      "text/plain": [
       "            count  dark_souls  sekiro     gap\n",
       "subreddit  8736.0      8736.0     0.0  8736.0\n",
       "sword       565.0       316.0   249.0    67.0\n",
       "does        485.0       238.0   247.0     9.0\n",
       "second      404.0       237.0   167.0    70.0\n",
       "try         410.0       234.0   176.0    58.0\n",
       "good        405.0       224.0   181.0    43.0\n",
       "better      408.0       218.0   190.0    28.0\n",
       "parry       407.0       210.0   197.0    13.0\n",
       "butterfly   390.0       208.0   182.0    26.0\n",
       "soul        313.0       187.0   126.0    61.0"
      ]
     },
     "execution_count": 51,
     "metadata": {},
     "output_type": "execute_result"
    }
   ],
   "source": [
    "df_counts.sort_values('dark_souls', ascending = False).head(10)"
   ]
  },
  {
   "cell_type": "code",
   "execution_count": 11,
   "id": "5de31cbd-ce22-427b-ab45-b533620b7d19",
   "metadata": {},
   "outputs": [
    {
     "data": {
      "image/png": "[encoded data removed]",
      "text/plain": [
       "<Figure size 432x288 with 1 Axes>"
      ]
     },
     "metadata": {
      "needs_background": "light"
     },
     "output_type": "display_data"
    }
   ],
   "source": [
    "sns.scatterplot(x='dark_souls', y='sekiro', data=df_counts)\n",
    "plt.xlim(right=400, left=0);\n",
    "plt.title('Occurences of Words by Subreddit');\n",
    "plt.xlabel('Dark Souls')\n",
    "plt.xlim((50,300))\n",
    "plt.ylim((50,250))\n",
    "plt.ylabel('Sekiro');\n",
    "plt.savefig('../output/occurences.png')"
   ]
  },
  {
   "cell_type": "code",
   "execution_count": 12,
   "id": "2ce73ac3-fb11-4163-aa12-a6f41d58c4e8",
   "metadata": {},
   "outputs": [
    {
     "data": {
      "text/plain": [
       "['sword', 'does', 'try', 'good', 'better', 'parry', 'butterfly']"
      ]
     },
     "execution_count": 12,
     "metadata": {},
     "output_type": "execute_result"
    }
   ],
   "source": [
    "temp =  sd2_counts.sort_values('count', ascending=False).head(10).index\n",
    "temp2 = ds_counts.sort_values('count', ascending=False).head(10).index\n",
    "sameness = [word for word in temp2 if word in temp]\n",
    "sameness\n",
    "    \n",
    "\n"
   ]
  },
  {
   "cell_type": "markdown",
   "id": "be3a1e1a-cd02-4f47-ba5c-7430f288326d",
   "metadata": {},
   "source": [
    "Of the top 10 words for each game 8 are shared. One of them 'butterfly' refers to a different boss in each game. Some of the others deal with general game mechanics. What is interesting is that 'ds1' appears in the top 10 words for Sekiro, 'ds1' is short for Dark Souls 1. Not too surprising since they are made by the same company, but it does mean that the name of the game is not a very strong positive indicator of finding the matching reddit. "
   ]
  },
  {
   "cell_type": "markdown",
   "id": "84c7cc9f-cdff-4606-b216-dccac612f668",
   "metadata": {},
   "source": [
    "<h2>Using Logistic Regression accross both title and text to find important words</h2>\n",
    "    The models in this section are pulled from the logreg and logreg-text notebooks. Negative coeficients support a post refering to Sekiro while positive coeficients 'vote' for darksouls. As a note these models only looked at words that appeared between 100 and 400 times across both subreddits."
   ]
  },
  {
   "cell_type": "code",
   "execution_count": 13,
   "id": "03da0272-765c-4b2e-8271-22094117bba3",
   "metadata": {},
   "outputs": [],
   "source": [
    "with open('../pickels/logregmodel_coefs.pkl', 'rb') as data_in:\n",
    "    coefs = pickle.load(data_in)\n"
   ]
  },
  {
   "cell_type": "code",
   "execution_count": 14,
   "id": "d95167e6-3d74-458e-bde5-983669b8b06d",
   "metadata": {},
   "outputs": [
    {
     "data": {
      "text/html": [
       "<div>\n",
       "<style scoped>\n",
       "    .dataframe tbody tr th:only-of-type {\n",
       "        vertical-align: middle;\n",
       "    }\n",
       "\n",
       "    .dataframe tbody tr th {\n",
       "        vertical-align: top;\n",
       "    }\n",
       "\n",
       "    .dataframe thead th {\n",
       "        text-align: right;\n",
       "    }\n",
       "</style>\n",
       "<table border=\"1\" class=\"dataframe\">\n",
       "  <thead>\n",
       "    <tr style=\"text-align: right;\">\n",
       "      <th></th>\n",
       "      <th>Coef</th>\n",
       "    </tr>\n",
       "  </thead>\n",
       "  <tbody>\n",
       "    <tr>\n",
       "      <th>smough</th>\n",
       "      <td>5.525604</td>\n",
       "    </tr>\n",
       "    <tr>\n",
       "      <th>quick</th>\n",
       "      <td>4.409929</td>\n",
       "    </tr>\n",
       "    <tr>\n",
       "      <th>depths</th>\n",
       "      <td>3.322535</td>\n",
       "    </tr>\n",
       "    <tr>\n",
       "      <th>ds</th>\n",
       "      <td>3.289306</td>\n",
       "    </tr>\n",
       "    <tr>\n",
       "      <th>weapons</th>\n",
       "      <td>3.279091</td>\n",
       "    </tr>\n",
       "    <tr>\n",
       "      <th>blighttown</th>\n",
       "      <td>3.219927</td>\n",
       "    </tr>\n",
       "    <tr>\n",
       "      <th>ds1</th>\n",
       "      <td>3.074953</td>\n",
       "    </tr>\n",
       "    <tr>\n",
       "      <th>build</th>\n",
       "      <td>3.051071</td>\n",
       "    </tr>\n",
       "    <tr>\n",
       "      <th>killed</th>\n",
       "      <td>2.923094</td>\n",
       "    </tr>\n",
       "    <tr>\n",
       "      <th>armor</th>\n",
       "      <td>2.852155</td>\n",
       "    </tr>\n",
       "  </tbody>\n",
       "</table>\n",
       "</div>"
      ],
      "text/plain": [
       "                Coef\n",
       "smough      5.525604\n",
       "quick       4.409929\n",
       "depths      3.322535\n",
       "ds          3.289306\n",
       "weapons     3.279091\n",
       "blighttown  3.219927\n",
       "ds1         3.074953\n",
       "build       3.051071\n",
       "killed      2.923094\n",
       "armor       2.852155"
      ]
     },
     "execution_count": 14,
     "metadata": {},
     "output_type": "execute_result"
    }
   ],
   "source": [
    "coefs.sort_values('Coef', ascending = False).head(10)"
   ]
  },
  {
   "cell_type": "code",
   "execution_count": 15,
   "id": "68a116c1-e85c-4239-a172-b93cd99c1823",
   "metadata": {},
   "outputs": [
    {
     "data": {
      "text/html": [
       "<div>\n",
       "<style scoped>\n",
       "    .dataframe tbody tr th:only-of-type {\n",
       "        vertical-align: middle;\n",
       "    }\n",
       "\n",
       "    .dataframe tbody tr th {\n",
       "        vertical-align: top;\n",
       "    }\n",
       "\n",
       "    .dataframe thead th {\n",
       "        text-align: right;\n",
       "    }\n",
       "</style>\n",
       "<table border=\"1\" class=\"dataframe\">\n",
       "  <thead>\n",
       "    <tr style=\"text-align: right;\">\n",
       "      <th></th>\n",
       "      <th>Coef</th>\n",
       "    </tr>\n",
       "  </thead>\n",
       "  <tbody>\n",
       "    <tr>\n",
       "      <th>warmup</th>\n",
       "      <td>-4.477116</td>\n",
       "    </tr>\n",
       "    <tr>\n",
       "      <th>headless</th>\n",
       "      <td>-4.672979</td>\n",
       "    </tr>\n",
       "    <tr>\n",
       "      <th>love</th>\n",
       "      <td>-4.678711</td>\n",
       "    </tr>\n",
       "    <tr>\n",
       "      <th>5600xt</th>\n",
       "      <td>-4.695682</td>\n",
       "    </tr>\n",
       "    <tr>\n",
       "      <th>advise</th>\n",
       "      <td>-4.695682</td>\n",
       "    </tr>\n",
       "    <tr>\n",
       "      <th>vs</th>\n",
       "      <td>-4.743654</td>\n",
       "    </tr>\n",
       "    <tr>\n",
       "      <th>grinding</th>\n",
       "      <td>-4.770720</td>\n",
       "    </tr>\n",
       "    <tr>\n",
       "      <th>advice</th>\n",
       "      <td>-4.868249</td>\n",
       "    </tr>\n",
       "    <tr>\n",
       "      <th>demake</th>\n",
       "      <td>-5.264791</td>\n",
       "    </tr>\n",
       "    <tr>\n",
       "      <th>worth</th>\n",
       "      <td>-5.720662</td>\n",
       "    </tr>\n",
       "  </tbody>\n",
       "</table>\n",
       "</div>"
      ],
      "text/plain": [
       "              Coef\n",
       "warmup   -4.477116\n",
       "headless -4.672979\n",
       "love     -4.678711\n",
       "5600xt   -4.695682\n",
       "advise   -4.695682\n",
       "vs       -4.743654\n",
       "grinding -4.770720\n",
       "advice   -4.868249\n",
       "demake   -5.264791\n",
       "worth    -5.720662"
      ]
     },
     "execution_count": 15,
     "metadata": {},
     "output_type": "execute_result"
    }
   ],
   "source": [
    "coefs.sort_values('Coef', ascending = False).tail(10)"
   ]
  },
  {
   "cell_type": "markdown",
   "id": "d980bbe8-ab81-4e92-984e-3f4f80f17d19",
   "metadata": {},
   "source": [
    "When examining a simple logistic regression model trained on the title text of the two reddits we do see here that ds and ds1 are strong indicators for the reddit matching that game. "
   ]
  },
  {
   "cell_type": "code",
   "execution_count": 16,
   "id": "9f28fddd-2191-4c43-9aaa-f28e87f96911",
   "metadata": {},
   "outputs": [],
   "source": [
    "with open('../pickels/logregmodel_text_coefs.pkl', 'rb') as data_in:\n",
    "    coefs_text = pickle.load(data_in)"
   ]
  },
  {
   "cell_type": "code",
   "execution_count": 17,
   "id": "e222f42e-14ca-4fd4-9ee8-e86ae99d82ab",
   "metadata": {},
   "outputs": [
    {
     "data": {
      "text/html": [
       "<div>\n",
       "<style scoped>\n",
       "    .dataframe tbody tr th:only-of-type {\n",
       "        vertical-align: middle;\n",
       "    }\n",
       "\n",
       "    .dataframe tbody tr th {\n",
       "        vertical-align: top;\n",
       "    }\n",
       "\n",
       "    .dataframe thead th {\n",
       "        text-align: right;\n",
       "    }\n",
       "</style>\n",
       "<table border=\"1\" class=\"dataframe\">\n",
       "  <thead>\n",
       "    <tr style=\"text-align: right;\">\n",
       "      <th></th>\n",
       "      <th>Coef</th>\n",
       "    </tr>\n",
       "  </thead>\n",
       "  <tbody>\n",
       "    <tr>\n",
       "      <th>build</th>\n",
       "      <td>2.971656</td>\n",
       "    </tr>\n",
       "    <tr>\n",
       "      <th>curious</th>\n",
       "      <td>2.952491</td>\n",
       "    </tr>\n",
       "    <tr>\n",
       "      <th>blighttown</th>\n",
       "      <td>2.755551</td>\n",
       "    </tr>\n",
       "    <tr>\n",
       "      <th>ps4</th>\n",
       "      <td>2.538947</td>\n",
       "    </tr>\n",
       "    <tr>\n",
       "      <th>taurus</th>\n",
       "      <td>2.440415</td>\n",
       "    </tr>\n",
       "    <tr>\n",
       "      <th>wanna</th>\n",
       "      <td>2.410356</td>\n",
       "    </tr>\n",
       "    <tr>\n",
       "      <th>password</th>\n",
       "      <td>2.365639</td>\n",
       "    </tr>\n",
       "    <tr>\n",
       "      <th>enjoy</th>\n",
       "      <td>2.332584</td>\n",
       "    </tr>\n",
       "    <tr>\n",
       "      <th>weapons</th>\n",
       "      <td>2.290489</td>\n",
       "    </tr>\n",
       "    <tr>\n",
       "      <th>gwyn</th>\n",
       "      <td>2.285476</td>\n",
       "    </tr>\n",
       "  </tbody>\n",
       "</table>\n",
       "</div>"
      ],
      "text/plain": [
       "                Coef\n",
       "build       2.971656\n",
       "curious     2.952491\n",
       "blighttown  2.755551\n",
       "ps4         2.538947\n",
       "taurus      2.440415\n",
       "wanna       2.410356\n",
       "password    2.365639\n",
       "enjoy       2.332584\n",
       "weapons     2.290489\n",
       "gwyn        2.285476"
      ]
     },
     "execution_count": 17,
     "metadata": {},
     "output_type": "execute_result"
    }
   ],
   "source": [
    "coefs_text.sort_values('Coef', ascending = False).head(10)"
   ]
  },
  {
   "cell_type": "code",
   "execution_count": 18,
   "id": "bc367c10-79cd-44f2-8bdb-6efdc2be2551",
   "metadata": {},
   "outputs": [
    {
     "data": {
      "text/html": [
       "<div>\n",
       "<style scoped>\n",
       "    .dataframe tbody tr th:only-of-type {\n",
       "        vertical-align: middle;\n",
       "    }\n",
       "\n",
       "    .dataframe tbody tr th {\n",
       "        vertical-align: top;\n",
       "    }\n",
       "\n",
       "    .dataframe thead th {\n",
       "        text-align: right;\n",
       "    }\n",
       "</style>\n",
       "<table border=\"1\" class=\"dataframe\">\n",
       "  <thead>\n",
       "    <tr style=\"text-align: right;\">\n",
       "      <th></th>\n",
       "      <th>Coef</th>\n",
       "    </tr>\n",
       "  </thead>\n",
       "  <tbody>\n",
       "    <tr>\n",
       "      <th>saw</th>\n",
       "      <td>-2.277477</td>\n",
       "    </tr>\n",
       "    <tr>\n",
       "      <th>feels</th>\n",
       "      <td>-2.488178</td>\n",
       "    </tr>\n",
       "    <tr>\n",
       "      <th>gauntlets</th>\n",
       "      <td>-2.562937</td>\n",
       "    </tr>\n",
       "    <tr>\n",
       "      <th>favorite</th>\n",
       "      <td>-2.592847</td>\n",
       "    </tr>\n",
       "    <tr>\n",
       "      <th>deathblow</th>\n",
       "      <td>-2.775359</td>\n",
       "    </tr>\n",
       "    <tr>\n",
       "      <th>outfit</th>\n",
       "      <td>-2.785697</td>\n",
       "    </tr>\n",
       "    <tr>\n",
       "      <th>mod</th>\n",
       "      <td>-4.515762</td>\n",
       "    </tr>\n",
       "    <tr>\n",
       "      <th>hints</th>\n",
       "      <td>-4.518581</td>\n",
       "    </tr>\n",
       "    <tr>\n",
       "      <th>recommend</th>\n",
       "      <td>-5.034247</td>\n",
       "    </tr>\n",
       "    <tr>\n",
       "      <th>deleted</th>\n",
       "      <td>-5.066097</td>\n",
       "    </tr>\n",
       "  </tbody>\n",
       "</table>\n",
       "</div>"
      ],
      "text/plain": [
       "               Coef\n",
       "saw       -2.277477\n",
       "feels     -2.488178\n",
       "gauntlets -2.562937\n",
       "favorite  -2.592847\n",
       "deathblow -2.775359\n",
       "outfit    -2.785697\n",
       "mod       -4.515762\n",
       "hints     -4.518581\n",
       "recommend -5.034247\n",
       "deleted   -5.066097"
      ]
     },
     "execution_count": 18,
     "metadata": {},
     "output_type": "execute_result"
    }
   ],
   "source": [
    "coefs_text.sort_values('Coef', ascending = False).tail(10)"
   ]
  },
  {
   "cell_type": "markdown",
   "id": "b179dc68-e17b-416f-9a5a-679254b2f4dc",
   "metadata": {},
   "source": [
    "Now when we look at an identical model trained on 'selftext' our most significant words change drastically. As Predicted in earlier EDA the name of the game is not a strong indicator in the actual text of a post. "
   ]
  },
  {
   "cell_type": "markdown",
   "id": "82115b0a-37e1-4a6a-aee6-c48dd288f677",
   "metadata": {},
   "source": [
    "<h2>Random Forest comparison with logistic regression model trained on selftext</h2>"
   ]
  },
  {
   "cell_type": "code",
   "execution_count": 19,
   "id": "ff042558-7048-4b08-91c3-c97dd09fca1d",
   "metadata": {},
   "outputs": [],
   "source": [
    "with open('../pickels/randomforest.pkl', mode ='rb') as pickle_in:\n",
    "    rs = pickle.load(pickle_in).best_estimator_\n",
    "with open('../pickels/logregmodel_text.pkl', mode ='rb') as pickle_in:\n",
    "    logreg = pickle.load(pickle_in)\n",
    "with open('../pickels/X_test_text.pkl', mode ='rb') as pickle_in:\n",
    "    X_test = pickle.load(pickle_in)\n",
    "    \n",
    "with open('../pickels/X_train_text.pkl', mode ='rb') as pickle_in:\n",
    "    X_train = pickle.load(pickle_in)\n",
    "    \n",
    "with open('../pickels/y_test_text.pkl', mode ='rb') as pickle_in:\n",
    "    y_test = pickle.load(pickle_in)\n",
    "    \n",
    "with open('../pickels/y_train_text.pkl', mode ='rb') as pickle_in:\n",
    "    y_train = pickle.load(pickle_in)\n",
    "    "
   ]
  },
  {
   "cell_type": "code",
   "execution_count": 20,
   "id": "064ed4dd-052c-4dfa-b58f-5457ae3e9815",
   "metadata": {},
   "outputs": [],
   "source": [
    "importances = pd.DataFrame(rs.feature_importances_, index = X_train.columns, columns = ['random_forest_importance'])"
   ]
  },
  {
   "cell_type": "code",
   "execution_count": 21,
   "id": "337f1207-39a0-459c-b802-e45456d22de8",
   "metadata": {},
   "outputs": [
    {
     "data": {
      "text/html": [
       "<div>\n",
       "<style scoped>\n",
       "    .dataframe tbody tr th:only-of-type {\n",
       "        vertical-align: middle;\n",
       "    }\n",
       "\n",
       "    .dataframe tbody tr th {\n",
       "        vertical-align: top;\n",
       "    }\n",
       "\n",
       "    .dataframe thead th {\n",
       "        text-align: right;\n",
       "    }\n",
       "</style>\n",
       "<table border=\"1\" class=\"dataframe\">\n",
       "  <thead>\n",
       "    <tr style=\"text-align: right;\">\n",
       "      <th></th>\n",
       "      <th>random_forest_importance</th>\n",
       "      <th>logreg_text_coef</th>\n",
       "      <th>logreg_text_importance</th>\n",
       "    </tr>\n",
       "  </thead>\n",
       "  <tbody>\n",
       "    <tr>\n",
       "      <th>deleted</th>\n",
       "      <td>0.026606</td>\n",
       "      <td>-5.066097</td>\n",
       "      <td>5.066097</td>\n",
       "    </tr>\n",
       "    <tr>\n",
       "      <th>gauntlets</th>\n",
       "      <td>0.016747</td>\n",
       "      <td>-2.562937</td>\n",
       "      <td>2.562937</td>\n",
       "    </tr>\n",
       "    <tr>\n",
       "      <th>bar</th>\n",
       "      <td>0.016296</td>\n",
       "      <td>-1.419464</td>\n",
       "      <td>1.419464</td>\n",
       "    </tr>\n",
       "    <tr>\n",
       "      <th>blighttown</th>\n",
       "      <td>0.012711</td>\n",
       "      <td>2.755551</td>\n",
       "      <td>2.755551</td>\n",
       "    </tr>\n",
       "    <tr>\n",
       "      <th>gwyn</th>\n",
       "      <td>0.012700</td>\n",
       "      <td>2.285476</td>\n",
       "      <td>2.285476</td>\n",
       "    </tr>\n",
       "    <tr>\n",
       "      <th>grind</th>\n",
       "      <td>0.012141</td>\n",
       "      <td>-2.074051</td>\n",
       "      <td>2.074051</td>\n",
       "    </tr>\n",
       "    <tr>\n",
       "      <th>humanity</th>\n",
       "      <td>0.011499</td>\n",
       "      <td>1.306646</td>\n",
       "      <td>1.306646</td>\n",
       "    </tr>\n",
       "    <tr>\n",
       "      <th>warrior</th>\n",
       "      <td>0.011330</td>\n",
       "      <td>-1.890887</td>\n",
       "      <td>1.890887</td>\n",
       "    </tr>\n",
       "    <tr>\n",
       "      <th>mean</th>\n",
       "      <td>0.011040</td>\n",
       "      <td>1.408761</td>\n",
       "      <td>1.408761</td>\n",
       "    </tr>\n",
       "    <tr>\n",
       "      <th>skills</th>\n",
       "      <td>0.010916</td>\n",
       "      <td>-1.308653</td>\n",
       "      <td>1.308653</td>\n",
       "    </tr>\n",
       "    <tr>\n",
       "      <th>prayer</th>\n",
       "      <td>0.010566</td>\n",
       "      <td>-1.837720</td>\n",
       "      <td>1.837720</td>\n",
       "    </tr>\n",
       "    <tr>\n",
       "      <th>reddit</th>\n",
       "      <td>0.010423</td>\n",
       "      <td>-1.137326</td>\n",
       "      <td>1.137326</td>\n",
       "    </tr>\n",
       "    <tr>\n",
       "      <th>teach</th>\n",
       "      <td>0.009544</td>\n",
       "      <td>-1.032802</td>\n",
       "      <td>1.032802</td>\n",
       "    </tr>\n",
       "    <tr>\n",
       "      <th>thinking</th>\n",
       "      <td>0.009241</td>\n",
       "      <td>-1.533699</td>\n",
       "      <td>1.533699</td>\n",
       "    </tr>\n",
       "    <tr>\n",
       "      <th>strength</th>\n",
       "      <td>0.009109</td>\n",
       "      <td>1.096729</td>\n",
       "      <td>1.096729</td>\n",
       "    </tr>\n",
       "    <tr>\n",
       "      <th>mod</th>\n",
       "      <td>0.009033</td>\n",
       "      <td>-4.515762</td>\n",
       "      <td>4.515762</td>\n",
       "    </tr>\n",
       "    <tr>\n",
       "      <th>shield</th>\n",
       "      <td>0.008747</td>\n",
       "      <td>1.455295</td>\n",
       "      <td>1.455295</td>\n",
       "    </tr>\n",
       "    <tr>\n",
       "      <th>build</th>\n",
       "      <td>0.008736</td>\n",
       "      <td>2.971656</td>\n",
       "      <td>2.971656</td>\n",
       "    </tr>\n",
       "    <tr>\n",
       "      <th>matter</th>\n",
       "      <td>0.008319</td>\n",
       "      <td>-0.522338</td>\n",
       "      <td>0.522338</td>\n",
       "    </tr>\n",
       "    <tr>\n",
       "      <th>different</th>\n",
       "      <td>0.008317</td>\n",
       "      <td>1.614436</td>\n",
       "      <td>1.614436</td>\n",
       "    </tr>\n",
       "  </tbody>\n",
       "</table>\n",
       "</div>"
      ],
      "text/plain": [
       "            random_forest_importance  logreg_text_coef  logreg_text_importance\n",
       "deleted                     0.026606         -5.066097                5.066097\n",
       "gauntlets                   0.016747         -2.562937                2.562937\n",
       "bar                         0.016296         -1.419464                1.419464\n",
       "blighttown                  0.012711          2.755551                2.755551\n",
       "gwyn                        0.012700          2.285476                2.285476\n",
       "grind                       0.012141         -2.074051                2.074051\n",
       "humanity                    0.011499          1.306646                1.306646\n",
       "warrior                     0.011330         -1.890887                1.890887\n",
       "mean                        0.011040          1.408761                1.408761\n",
       "skills                      0.010916         -1.308653                1.308653\n",
       "prayer                      0.010566         -1.837720                1.837720\n",
       "reddit                      0.010423         -1.137326                1.137326\n",
       "teach                       0.009544         -1.032802                1.032802\n",
       "thinking                    0.009241         -1.533699                1.533699\n",
       "strength                    0.009109          1.096729                1.096729\n",
       "mod                         0.009033         -4.515762                4.515762\n",
       "shield                      0.008747          1.455295                1.455295\n",
       "build                       0.008736          2.971656                2.971656\n",
       "matter                      0.008319         -0.522338                0.522338\n",
       "different                   0.008317          1.614436                1.614436"
      ]
     },
     "execution_count": 21,
     "metadata": {},
     "output_type": "execute_result"
    }
   ],
   "source": [
    "importances['logreg_text_coef'] = [coefs_text.loc[i, 'Coef'] for i in importances.index]\n",
    "\n",
    "importances['logreg_text_importance'] = abs(importances['logreg_text_coef'])\n",
    "importances.sort_values('random_forest_importance', ascending = False).head(20)\n"
   ]
  },
  {
   "cell_type": "code",
   "execution_count": 22,
   "id": "551e40bd-f436-4147-8597-91717d17c48b",
   "metadata": {},
   "outputs": [
    {
     "data": {
      "text/html": [
       "<div>\n",
       "<style scoped>\n",
       "    .dataframe tbody tr th:only-of-type {\n",
       "        vertical-align: middle;\n",
       "    }\n",
       "\n",
       "    .dataframe tbody tr th {\n",
       "        vertical-align: top;\n",
       "    }\n",
       "\n",
       "    .dataframe thead th {\n",
       "        text-align: right;\n",
       "    }\n",
       "</style>\n",
       "<table border=\"1\" class=\"dataframe\">\n",
       "  <thead>\n",
       "    <tr style=\"text-align: right;\">\n",
       "      <th></th>\n",
       "      <th>random_forest_importance</th>\n",
       "      <th>logreg_text_coef</th>\n",
       "      <th>logreg_text_importance</th>\n",
       "    </tr>\n",
       "  </thead>\n",
       "  <tbody>\n",
       "    <tr>\n",
       "      <th>deleted</th>\n",
       "      <td>0.026606</td>\n",
       "      <td>-5.066097</td>\n",
       "      <td>5.066097</td>\n",
       "    </tr>\n",
       "    <tr>\n",
       "      <th>recommend</th>\n",
       "      <td>0.005697</td>\n",
       "      <td>-5.034247</td>\n",
       "      <td>5.034247</td>\n",
       "    </tr>\n",
       "    <tr>\n",
       "      <th>hints</th>\n",
       "      <td>0.007959</td>\n",
       "      <td>-4.518581</td>\n",
       "      <td>4.518581</td>\n",
       "    </tr>\n",
       "    <tr>\n",
       "      <th>mod</th>\n",
       "      <td>0.009033</td>\n",
       "      <td>-4.515762</td>\n",
       "      <td>4.515762</td>\n",
       "    </tr>\n",
       "    <tr>\n",
       "      <th>build</th>\n",
       "      <td>0.008736</td>\n",
       "      <td>2.971656</td>\n",
       "      <td>2.971656</td>\n",
       "    </tr>\n",
       "    <tr>\n",
       "      <th>curious</th>\n",
       "      <td>0.002786</td>\n",
       "      <td>2.952491</td>\n",
       "      <td>2.952491</td>\n",
       "    </tr>\n",
       "    <tr>\n",
       "      <th>outfit</th>\n",
       "      <td>0.007600</td>\n",
       "      <td>-2.785697</td>\n",
       "      <td>2.785697</td>\n",
       "    </tr>\n",
       "    <tr>\n",
       "      <th>deathblow</th>\n",
       "      <td>0.007253</td>\n",
       "      <td>-2.775359</td>\n",
       "      <td>2.775359</td>\n",
       "    </tr>\n",
       "    <tr>\n",
       "      <th>blighttown</th>\n",
       "      <td>0.012711</td>\n",
       "      <td>2.755551</td>\n",
       "      <td>2.755551</td>\n",
       "    </tr>\n",
       "    <tr>\n",
       "      <th>favorite</th>\n",
       "      <td>0.006913</td>\n",
       "      <td>-2.592847</td>\n",
       "      <td>2.592847</td>\n",
       "    </tr>\n",
       "    <tr>\n",
       "      <th>gauntlets</th>\n",
       "      <td>0.016747</td>\n",
       "      <td>-2.562937</td>\n",
       "      <td>2.562937</td>\n",
       "    </tr>\n",
       "    <tr>\n",
       "      <th>ps4</th>\n",
       "      <td>0.003175</td>\n",
       "      <td>2.538947</td>\n",
       "      <td>2.538947</td>\n",
       "    </tr>\n",
       "    <tr>\n",
       "      <th>feels</th>\n",
       "      <td>0.003324</td>\n",
       "      <td>-2.488178</td>\n",
       "      <td>2.488178</td>\n",
       "    </tr>\n",
       "    <tr>\n",
       "      <th>taurus</th>\n",
       "      <td>0.003389</td>\n",
       "      <td>2.440415</td>\n",
       "      <td>2.440415</td>\n",
       "    </tr>\n",
       "    <tr>\n",
       "      <th>wanna</th>\n",
       "      <td>0.001225</td>\n",
       "      <td>2.410356</td>\n",
       "      <td>2.410356</td>\n",
       "    </tr>\n",
       "    <tr>\n",
       "      <th>password</th>\n",
       "      <td>0.001208</td>\n",
       "      <td>2.365639</td>\n",
       "      <td>2.365639</td>\n",
       "    </tr>\n",
       "    <tr>\n",
       "      <th>enjoy</th>\n",
       "      <td>0.001410</td>\n",
       "      <td>2.332584</td>\n",
       "      <td>2.332584</td>\n",
       "    </tr>\n",
       "    <tr>\n",
       "      <th>weapons</th>\n",
       "      <td>0.005137</td>\n",
       "      <td>2.290489</td>\n",
       "      <td>2.290489</td>\n",
       "    </tr>\n",
       "    <tr>\n",
       "      <th>gwyn</th>\n",
       "      <td>0.012700</td>\n",
       "      <td>2.285476</td>\n",
       "      <td>2.285476</td>\n",
       "    </tr>\n",
       "    <tr>\n",
       "      <th>saw</th>\n",
       "      <td>0.006819</td>\n",
       "      <td>-2.277477</td>\n",
       "      <td>2.277477</td>\n",
       "    </tr>\n",
       "  </tbody>\n",
       "</table>\n",
       "</div>"
      ],
      "text/plain": [
       "            random_forest_importance  logreg_text_coef  logreg_text_importance\n",
       "deleted                     0.026606         -5.066097                5.066097\n",
       "recommend                   0.005697         -5.034247                5.034247\n",
       "hints                       0.007959         -4.518581                4.518581\n",
       "mod                         0.009033         -4.515762                4.515762\n",
       "build                       0.008736          2.971656                2.971656\n",
       "curious                     0.002786          2.952491                2.952491\n",
       "outfit                      0.007600         -2.785697                2.785697\n",
       "deathblow                   0.007253         -2.775359                2.775359\n",
       "blighttown                  0.012711          2.755551                2.755551\n",
       "favorite                    0.006913         -2.592847                2.592847\n",
       "gauntlets                   0.016747         -2.562937                2.562937\n",
       "ps4                         0.003175          2.538947                2.538947\n",
       "feels                       0.003324         -2.488178                2.488178\n",
       "taurus                      0.003389          2.440415                2.440415\n",
       "wanna                       0.001225          2.410356                2.410356\n",
       "password                    0.001208          2.365639                2.365639\n",
       "enjoy                       0.001410          2.332584                2.332584\n",
       "weapons                     0.005137          2.290489                2.290489\n",
       "gwyn                        0.012700          2.285476                2.285476\n",
       "saw                         0.006819         -2.277477                2.277477"
      ]
     },
     "execution_count": 22,
     "metadata": {},
     "output_type": "execute_result"
    }
   ],
   "source": [
    "importances.sort_values('logreg_text_importance', ascending = False).head(20)\n"
   ]
  },
  {
   "cell_type": "code",
   "execution_count": 23,
   "id": "75253623-fc13-4142-812d-6b8e772ab783",
   "metadata": {},
   "outputs": [
    {
     "data": {
      "text/plain": [
       "random_forest_importance    0.001227\n",
       "logreg_text_coef           -0.128170\n",
       "logreg_text_importance      0.564582\n",
       "dtype: float64"
      ]
     },
     "execution_count": 23,
     "metadata": {},
     "output_type": "execute_result"
    }
   ],
   "source": [
    "\n",
    "importances.sort_values('logreg_text_importance', ascending = False).mean()"
   ]
  },
  {
   "cell_type": "code",
   "execution_count": 24,
   "id": "027d8edf-c2d5-4466-b674-cc841c7fe6a6",
   "metadata": {},
   "outputs": [
    {
     "name": "stdout",
     "output_type": "stream",
     "text": [
      "182\n"
     ]
    }
   ],
   "source": [
    "temp = importances.sort_values('logreg_text_importance', ascending = False).head(250).index\n",
    "temp2 = importances.sort_values('random_forest_importance', ascending = False).head(250).index\n",
    "sameness = [word for word in temp2 if word in temp]\n",
    "print(len(sameness))"
   ]
  },
  {
   "cell_type": "code",
   "execution_count": 25,
   "id": "dec5ad74-4228-4628-b564-413929ceb64e",
   "metadata": {},
   "outputs": [],
   "source": [
    "sameness_df = pd.DataFrame([importances.loc[i] for i in sameness])\n"
   ]
  },
  {
   "cell_type": "code",
   "execution_count": 26,
   "id": "e3463e6f-701d-4ed1-be66-1618d4fd141c",
   "metadata": {},
   "outputs": [
    {
     "data": {
      "text/plain": [
       "'<table border=\"1\" class=\"dataframe\">  <thead>    <tr style=\"text-align: right;\">      <th></th>      <th>random_forest_importance</th>      <th>logreg_text_coef</th>      <th>logreg_text_importance</th>    </tr>  </thead>  <tbody>    <tr>      <th>deleted</th>      <td>0.026606</td>      <td>-5.066097</td>      <td>5.066097</td>    </tr>    <tr>      <th>gauntlets</th>      <td>0.016747</td>      <td>-2.562937</td>      <td>2.562937</td>    </tr>    <tr>      <th>bar</th>      <td>0.016296</td>      <td>-1.419464</td>      <td>1.419464</td>    </tr>    <tr>      <th>blighttown</th>      <td>0.012711</td>      <td>2.755551</td>      <td>2.755551</td>    </tr>    <tr>      <th>gwyn</th>      <td>0.012700</td>      <td>2.285476</td>      <td>2.285476</td>    </tr>    <tr>      <th>grind</th>      <td>0.012141</td>      <td>-2.074051</td>      <td>2.074051</td>    </tr>    <tr>      <th>humanity</th>      <td>0.011499</td>      <td>1.306646</td>      <td>1.306646</td>    </tr>    <tr>      <th>warrior</th>      <td>0.011330</td>      <td>-1.890887</td>      <td>1.890887</td>    </tr>    <tr>      <th>mean</th>      <td>0.011040</td>      <td>1.408761</td>      <td>1.408761</td>    </tr>    <tr>      <th>skills</th>      <td>0.010916</td>      <td>-1.308653</td>      <td>1.308653</td>    </tr>    <tr>      <th>prayer</th>      <td>0.010566</td>      <td>-1.837720</td>      <td>1.837720</td>    </tr>    <tr>      <th>reddit</th>      <td>0.010423</td>      <td>-1.137326</td>      <td>1.137326</td>    </tr>    <tr>      <th>teach</th>      <td>0.009544</td>      <td>-1.032802</td>      <td>1.032802</td>    </tr>    <tr>      <th>thinking</th>      <td>0.009241</td>      <td>-1.533699</td>      <td>1.533699</td>    </tr>    <tr>      <th>strength</th>      <td>0.009109</td>      <td>1.096729</td>      <td>1.096729</td>    </tr>    <tr>      <th>mod</th>      <td>0.009033</td>      <td>-4.515762</td>      <td>4.515762</td>    </tr>    <tr>      <th>shield</th>      <td>0.008747</td>      <td>1.455295</td>      <td>1.455295</td>    </tr>    <tr>      <th>build</th>      <td>0.008736</td>      <td>2.971656</td>      <td>2.971656</td>    </tr>    <tr>      <th>different</th>      <td>0.008317</td>      <td>1.614436</td>      <td>1.614436</td>    </tr>    <tr>      <th>flame</th>      <td>0.008194</td>      <td>0.787640</td>      <td>0.787640</td>    </tr>  </tbody></table>'"
      ]
     },
     "execution_count": 26,
     "metadata": {},
     "output_type": "execute_result"
    }
   ],
   "source": [
    "sameness_df.head(20).to_html().replace('\\n', '')"
   ]
  },
  {
   "cell_type": "code",
   "execution_count": 27,
   "id": "cca9be52-ab8d-4553-9294-adfe1c07ec9c",
   "metadata": {},
   "outputs": [
    {
     "data": {
      "text/plain": [
       "<AxesSubplot:xlabel='random_forest_importance', ylabel='logreg_text_importance'>"
      ]
     },
     "execution_count": 27,
     "metadata": {},
     "output_type": "execute_result"
    },
    {
     "data": {
      "image/png": "[encoded data removed]",
      "text/plain": [
       "<Figure size 432x288 with 1 Axes>"
      ]
     },
     "metadata": {
      "needs_background": "light"
     },
     "output_type": "display_data"
    }
   ],
   "source": [
    "sns.scatterplot(x= 'random_forest_importance', y='logreg_text_importance', data = importances)  "
   ]
  },
  {
   "cell_type": "code",
   "execution_count": 28,
   "id": "555e79de-51d8-4d16-ba71-bf28ecc88a4b",
   "metadata": {},
   "outputs": [
    {
     "data": {
      "text/plain": [
       "(815, 1)"
      ]
     },
     "execution_count": 28,
     "metadata": {},
     "output_type": "execute_result"
    }
   ],
   "source": [
    "coefs_text.shape"
   ]
  },
  {
   "cell_type": "code",
   "execution_count": 29,
   "id": "c31f13b3-2058-466a-9846-4ae64e8a3e36",
   "metadata": {},
   "outputs": [],
   "source": [
    "from sklearn.linear_model import LinearRegression\n",
    "from sklearn.model_selection import train_test_split\n",
    "from sklearn.metrics import mean_squared_error\n",
    "lr = LinearRegression()\n",
    "Xlr = importances[['random_forest_importance']]\n",
    "ylr = importances['logreg_text_importance']\n",
    "Xlr_train, Xlr_test, ylr_train, ylr_test =  train_test_split(Xlr, ylr)"
   ]
  },
  {
   "cell_type": "code",
   "execution_count": 30,
   "id": "cc35e5cd-827f-421c-847e-bb470573c862",
   "metadata": {},
   "outputs": [
    {
     "data": {
      "text/plain": [
       "LinearRegression()"
      ]
     },
     "execution_count": 30,
     "metadata": {},
     "output_type": "execute_result"
    }
   ],
   "source": [
    "lr.fit(Xlr_train, ylr_train)\n"
   ]
  },
  {
   "cell_type": "code",
   "execution_count": 31,
   "id": "cfc9e1ff-972c-4523-a4f2-43c6e1266ef4",
   "metadata": {},
   "outputs": [
    {
     "data": {
      "text/plain": [
       "(0.4625162294228372, 0.15751589581825626)"
      ]
     },
     "execution_count": 31,
     "metadata": {},
     "output_type": "execute_result"
    }
   ],
   "source": [
    "lr.score(Xlr_test, ylr_test), mean_squared_error(ylr_test, lr.predict(Xlr_test))"
   ]
  },
  {
   "cell_type": "code",
   "execution_count": 32,
   "id": "adfd4bad-6dc5-41eb-929a-b9959e9241ea",
   "metadata": {},
   "outputs": [
    {
     "data": {
      "text/plain": [
       "0.5856912393413616"
      ]
     },
     "execution_count": 32,
     "metadata": {},
     "output_type": "execute_result"
    }
   ],
   "source": [
    "importances['logreg_text_importance'].std()"
   ]
  },
  {
   "cell_type": "markdown",
   "id": "e6b70689-4ac1-42e9-8bee-03d1196ed983",
   "metadata": {},
   "source": [
    "The importance rating for logistic regression is the absolute value of the coeficient. I Then built a linear regression model to try to predict the logistic importance based of the random forest importance. It turns out that the importance of words between these two models are highly correlated. The linear regression model was able to use random forest importance to predict logistic regression importance within 1/3 of a standard deviation. "
   ]
  },
  {
   "cell_type": "code",
   "execution_count": 71,
   "id": "4db8ecbd-8ba2-4576-967a-99cea5756b76",
   "metadata": {},
   "outputs": [
    {
     "data": {
      "image/png": "[encoded data removed]",
      "text/plain": [
       "<Figure size 432x288 with 1 Axes>"
      ]
     },
     "metadata": {
      "needs_background": "light"
     },
     "output_type": "display_data"
    }
   ],
   "source": [
    "sns.scatterplot(x= 'random_forest_importance', y='logreg_text_importance', data = importances);\n",
    "plt.title('Comparitive importance of words');\n",
    "plt.xlabel('Random Forest Importance')\n",
    "plt.ylabel('Logistic Regression Importance')\n",
    "plt.savefig('../output/comparitive.png')"
   ]
  },
  {
   "cell_type": "markdown",
   "id": "21bd18c3-3184-4084-8d0e-c34a11c88357",
   "metadata": {},
   "source": [
    "If you look at the above chart you will see that there is indeed a relationship that borders linearity between the importance indexes of these two models. Furthermore 74.8% of the top words for each model are shared (187/250). "
   ]
  },
  {
   "cell_type": "code",
   "execution_count": 34,
   "id": "62b8a8e3-9ac8-48bb-b34d-5bb54dd524c1",
   "metadata": {},
   "outputs": [],
   "source": [
    "from sklearn.metrics import plot_confusion_matrix"
   ]
  },
  {
   "cell_type": "code",
   "execution_count": 62,
   "id": "d11389f4-7e9c-4039-a813-5551c3466699",
   "metadata": {},
   "outputs": [
    {
     "data": {
      "image/png": "[encoded data removed]",
      "text/plain": [
       "<Figure size 432x288 with 2 Axes>"
      ]
     },
     "metadata": {
      "needs_background": "light"
     },
     "output_type": "display_data"
    }
   ],
   "source": [
    "plot_confusion_matrix(rs, X_test, y_test, cmap = 'gray_r');\n",
    "plt.title('Random Forest Matrix (Text)');\n",
    "\n",
    "plt.savefig('../output/random-forest-matrix.png')"
   ]
  },
  {
   "cell_type": "code",
   "execution_count": 66,
   "id": "d373f270-6f95-4e4b-a533-ef66cc2afb31",
   "metadata": {},
   "outputs": [
    {
     "data": {
      "image/png": "[encoded data removed]",
      "text/plain": [
       "<Figure size 432x288 with 2 Axes>"
      ]
     },
     "metadata": {
      "needs_background": "light"
     },
     "output_type": "display_data"
    }
   ],
   "source": [
    "plot_confusion_matrix(logreg, X_test, y_test, cmap = 'gray_r');\n",
    "\n",
    "plt.title('Logistic Regression Matrix (Text)');\n",
    "\n",
    "plt.savefig('../output/logistic-matrix.png')"
   ]
  },
  {
   "cell_type": "code",
   "execution_count": 37,
   "id": "d1154e4d-7056-479d-aa35-dda143dce174",
   "metadata": {},
   "outputs": [
    {
     "data": {
      "text/plain": [
       "(0.9896078431372549, 0.9896078431372549)"
      ]
     },
     "execution_count": 37,
     "metadata": {},
     "output_type": "execute_result"
    }
   ],
   "source": [
    "logreg.score(X_test, y_test), rs.score(X_test, y_test)"
   ]
  },
  {
   "cell_type": "code",
   "execution_count": 68,
   "id": "9584faac-515c-4202-8a03-d8d125f3fb6a",
   "metadata": {},
   "outputs": [
    {
     "data": {
      "text/plain": [
       "(0.9903921568627451, 0.9896078431372549)"
      ]
     },
     "execution_count": 68,
     "metadata": {},
     "output_type": "execute_result"
    }
   ],
   "source": [
    "rs.score(X_train, y_train), rs.score(X_test, y_test)"
   ]
  },
  {
   "cell_type": "code",
   "execution_count": 39,
   "id": "bb89acee-5848-4ac6-bdaa-bcfe62ecb8f3",
   "metadata": {},
   "outputs": [],
   "source": [
    "assert logreg != rs"
   ]
  },
  {
   "cell_type": "code",
   "execution_count": 40,
   "id": "ef6df333-783f-4c02-9116-23c13b192dbd",
   "metadata": {},
   "outputs": [],
   "source": [
    "assert type(logreg) != type(rs) "
   ]
  },
  {
   "cell_type": "markdown",
   "id": "b805995e-2829-4016-a669-69743a619bfe",
   "metadata": {},
   "source": [
    "I had to be sure that these models were in fact different after I got the exact same score on both test and train data accross these two models. With an accuracy of roughly 99 percent for both train and test data and with highly correlated importances of individual words it would seem that both models were able to very effectively approximate f(x). "
   ]
  },
  {
   "cell_type": "code",
   "execution_count": 41,
   "id": "b7e2cfc9-f769-4853-b53a-3ee131a84d35",
   "metadata": {},
   "outputs": [
    {
     "data": {
      "text/html": [
       "<div>\n",
       "<style scoped>\n",
       "    .dataframe tbody tr th:only-of-type {\n",
       "        vertical-align: middle;\n",
       "    }\n",
       "\n",
       "    .dataframe tbody tr th {\n",
       "        vertical-align: top;\n",
       "    }\n",
       "\n",
       "    .dataframe thead th {\n",
       "        text-align: right;\n",
       "    }\n",
       "</style>\n",
       "<table border=\"1\" class=\"dataframe\">\n",
       "  <thead>\n",
       "    <tr style=\"text-align: right;\">\n",
       "      <th></th>\n",
       "      <th>random_forest_importance</th>\n",
       "      <th>logreg_text_coef</th>\n",
       "      <th>logreg_text_importance</th>\n",
       "      <th>occurences_dark_souls</th>\n",
       "      <th>occurences_sekiro</th>\n",
       "      <th>occurences_gap</th>\n",
       "    </tr>\n",
       "  </thead>\n",
       "  <tbody>\n",
       "    <tr>\n",
       "      <th>able</th>\n",
       "      <td>0.000392</td>\n",
       "      <td>-0.007362</td>\n",
       "      <td>0.007362</td>\n",
       "      <td>144.0</td>\n",
       "      <td>108.0</td>\n",
       "      <td>36.0</td>\n",
       "    </tr>\n",
       "    <tr>\n",
       "      <th>advice</th>\n",
       "      <td>0.000143</td>\n",
       "      <td>-0.070714</td>\n",
       "      <td>0.070714</td>\n",
       "      <td>166.0</td>\n",
       "      <td>167.0</td>\n",
       "      <td>1.0</td>\n",
       "    </tr>\n",
       "    <tr>\n",
       "      <th>armored</th>\n",
       "      <td>0.003310</td>\n",
       "      <td>-1.687621</td>\n",
       "      <td>1.687621</td>\n",
       "      <td>173.0</td>\n",
       "      <td>152.0</td>\n",
       "      <td>21.0</td>\n",
       "    </tr>\n",
       "    <tr>\n",
       "      <th>awesome</th>\n",
       "      <td>0.002496</td>\n",
       "      <td>-0.660106</td>\n",
       "      <td>0.660106</td>\n",
       "      <td>112.0</td>\n",
       "      <td>109.0</td>\n",
       "      <td>3.0</td>\n",
       "    </tr>\n",
       "    <tr>\n",
       "      <th>bed</th>\n",
       "      <td>0.001259</td>\n",
       "      <td>0.721090</td>\n",
       "      <td>0.721090</td>\n",
       "      <td>96.0</td>\n",
       "      <td>68.0</td>\n",
       "      <td>28.0</td>\n",
       "    </tr>\n",
       "  </tbody>\n",
       "</table>\n",
       "</div>"
      ],
      "text/plain": [
       "         random_forest_importance  logreg_text_coef  logreg_text_importance  \\\n",
       "able                     0.000392         -0.007362                0.007362   \n",
       "advice                   0.000143         -0.070714                0.070714   \n",
       "armored                  0.003310         -1.687621                1.687621   \n",
       "awesome                  0.002496         -0.660106                0.660106   \n",
       "bed                      0.001259          0.721090                0.721090   \n",
       "\n",
       "         occurences_dark_souls  occurences_sekiro  occurences_gap  \n",
       "able                     144.0              108.0            36.0  \n",
       "advice                   166.0              167.0             1.0  \n",
       "armored                  173.0              152.0            21.0  \n",
       "awesome                  112.0              109.0             3.0  \n",
       "bed                       96.0               68.0            28.0  "
      ]
     },
     "execution_count": 41,
     "metadata": {},
     "output_type": "execute_result"
    }
   ],
   "source": [
    "temp = pd.DataFrame([importances.loc[word] for word in df_counts.index if word in importances.index])\n",
    "temp['occurences_dark_souls'] = [df_counts.loc[word, 'dark_souls'] for word in temp.index]\n",
    "temp['occurences_sekiro'] = [df_counts.loc[word, 'sekiro'] for word in temp.index]\n",
    "temp['occurences_gap'] = [df_counts.loc[word, 'gap'] for word in temp.index]\n",
    "temp.head()"
   ]
  },
  {
   "cell_type": "code",
   "execution_count": null,
   "id": "dac05eda-5a98-4ce6-bf11-957d76cfd36d",
   "metadata": {},
   "outputs": [],
   "source": []
  },
  {
   "cell_type": "code",
   "execution_count": null,
   "id": "9f19bbd8-a2e8-4565-bf17-a45baec1ca43",
   "metadata": {},
   "outputs": [],
   "source": []
  },
  {
   "cell_type": "code",
   "execution_count": null,
   "id": "1820f4df-9276-4362-8862-041514eaf2fb",
   "metadata": {},
   "outputs": [],
   "source": []
  },
  {
   "cell_type": "code",
   "execution_count": null,
   "id": "7966902b-2bbb-4f9a-b391-c0b0ef0d364f",
   "metadata": {},
   "outputs": [],
   "source": []
  },
  {
   "cell_type": "code",
   "execution_count": 42,
   "id": "a4e58e7c-97ed-4678-9d19-3ca6e3538e66",
   "metadata": {},
   "outputs": [
    {
     "data": {
      "image/png": "[encoded data removed]",
      "text/plain": [
       "<Figure size 432x288 with 1 Axes>"
      ]
     },
     "metadata": {
      "needs_background": "light"
     },
     "output_type": "display_data"
    }
   ],
   "source": [
    "temp['occurences_gap'] = [ele if ele <50  else 51 for ele in temp['occurences_gap']]\n",
    "temp['ogg'] = (temp['occurences_gap'] // 10).map({0:'0-9', 1:'10-19', 2:'20-29',3:'30-39', 4:'40-49',5:'>50'})\n",
    "sns.barplot(y= 'logreg_text_importance', x='ogg', data=temp.sort_values('occurences_gap'),  ci=None, color='darkblue') ;\n",
    "\n",
    "plt.title('Logistic Regression Model vs Occurrence Gap in Corpus');\n",
    "plt.xlabel('Occurence Gap')\n",
    "plt.ylabel('Logistic Regression Importance')\n",
    "plt.xticks(rotation=90)\n",
    "plt.tight_layout()\n",
    "plt.savefig('../output/LogReg-V-Gap.png')"
   ]
  },
  {
   "cell_type": "code",
   "execution_count": 69,
   "id": "8967d0b8-d05b-441d-97e0-59c8c8264640",
   "metadata": {},
   "outputs": [
    {
     "data": {
      "image/png": "[encoded data removed]",
      "text/plain": [
       "<Figure size 432x288 with 1 Axes>"
      ]
     },
     "metadata": {
      "needs_background": "light"
     },
     "output_type": "display_data"
    }
   ],
   "source": [
    "sns.barplot(y= 'random_forest_importance', x='ogg', data=temp.sort_values('occurences_gap'),  ci=None, color='darkblue') ;\n",
    "\n",
    "plt.title('Random Forest Model vs Occurrence Gap in Corpus');\n",
    "plt.xlabel('Occurence Gap')\n",
    "plt.ylabel('Random Forest Importance')\n",
    "plt.xticks(rotation=90)\n",
    "plt.tight_layout()\n",
    "plt.savefig('../output/RF-V-Gap.png')"
   ]
  },
  {
   "cell_type": "code",
   "execution_count": 72,
   "id": "724dea24-691e-4e61-8e18-9dd467d9d24a",
   "metadata": {},
   "outputs": [],
   "source": [
    "from sklearn import metrics"
   ]
  },
  {
   "cell_type": "code",
   "execution_count": 74,
   "id": "aaa2bf94-3a8b-4573-9950-e83934ee777e",
   "metadata": {},
   "outputs": [
    {
     "data": {
      "text/plain": [
       "(0.9792401096748923, 0.9792401096748923)"
      ]
     },
     "execution_count": 74,
     "metadata": {},
     "output_type": "execute_result"
    }
   ],
   "source": [
    "metrics.precision_score(y_test, rs.predict(X_test)),metrics.precision_score(y_test, logreg.predict(X_test))"
   ]
  },
  {
   "cell_type": "code",
   "execution_count": 77,
   "id": "ae34d45b-169f-48fb-848b-613310363040",
   "metadata": {},
   "outputs": [
    {
     "data": {
      "text/plain": [
       "(1.0, 1.0)"
      ]
     },
     "execution_count": 77,
     "metadata": {},
     "output_type": "execute_result"
    }
   ],
   "source": [
    "metrics.recall_score(y_test, rs.predict(X_test)),metrics.recall_score(y_test, logreg.predict(X_test))"
   ]
  },
  {
   "cell_type": "code",
   "execution_count": 82,
   "id": "2fdeab0d-b926-492b-b5ac-4353a750d518",
   "metadata": {},
   "outputs": [
    {
     "data": {
      "text/plain": [
       "(0.9895111814763508, 0.9895111814763508)"
      ]
     },
     "execution_count": 82,
     "metadata": {},
     "output_type": "execute_result"
    }
   ],
   "source": [
    "metrics.f1_score(y_test, rs.predict(X_test)),metrics.f1_score(y_test, logreg.predict(X_test))"
   ]
  },
  {
   "cell_type": "markdown",
   "id": "abd65f1a-0f15-47ab-a680-96f01adaf499",
   "metadata": {},
   "source": [
    "Models are identical in all scores reviewed."
   ]
  },
  {
   "cell_type": "code",
   "execution_count": null,
   "id": "d34ec6f8-0122-4808-9f83-39fdf261d36d",
   "metadata": {},
   "outputs": [],
   "source": []
  }
 ],
 "metadata": {
  "kernelspec": {
   "display_name": "Python 3",
   "language": "python",
   "name": "python3"
  },
  "language_info": {
   "codemirror_mode": {
    "name": "ipython",
    "version": 3
   },
   "file_extension": ".py",
   "mimetype": "text/x-python",
   "name": "python",
   "nbconvert_exporter": "python",
   "pygments_lexer": "ipython3",
   "version": "3.8.11"
  }
 },
 "nbformat": 4,
 "nbformat_minor": 5
}
