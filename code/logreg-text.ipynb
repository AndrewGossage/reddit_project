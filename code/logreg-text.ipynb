{
 "cells": [
  {
   "cell_type": "code",
   "execution_count": 1,
   "id": "11a3cce1-d475-456f-8cc3-839c7dda3659",
   "metadata": {},
   "outputs": [],
   "source": [
    "import pandas as pd\n",
    "import numpy as np\n",
    "import matplotlib.pyplot as plt\n",
    "import seaborn as sns\n",
    "from sklearn.feature_extraction.text import CountVectorizer\n",
    "from sklearn.model_selection import train_test_split"
   ]
  },
  {
   "cell_type": "code",
   "execution_count": 2,
   "id": "614fa967-efb4-4575-9958-0d94856a0798",
   "metadata": {},
   "outputs": [
    {
     "ename": "ModuleNotFoundError",
     "evalue": "No module named 'gensim'",
     "output_type": "error",
     "traceback": [
      "\u001b[0;31m---------------------------------------------------------------------------\u001b[0m",
      "\u001b[0;31mModuleNotFoundError\u001b[0m                       Traceback (most recent call last)",
      "\u001b[0;32m<ipython-input-2-935af1b8ad49>\u001b[0m in \u001b[0;36m<module>\u001b[0;34m\u001b[0m\n\u001b[1;32m      4\u001b[0m \u001b[0;32mfrom\u001b[0m \u001b[0mnltk\u001b[0m\u001b[0;34m.\u001b[0m\u001b[0mcorpus\u001b[0m \u001b[0;32mimport\u001b[0m \u001b[0mstopwords\u001b[0m\u001b[0;34m\u001b[0m\u001b[0;34m\u001b[0m\u001b[0m\n\u001b[1;32m      5\u001b[0m \u001b[0;32mfrom\u001b[0m \u001b[0mnltk\u001b[0m\u001b[0;34m.\u001b[0m\u001b[0msentiment\u001b[0m\u001b[0;34m.\u001b[0m\u001b[0mvader\u001b[0m \u001b[0;32mimport\u001b[0m \u001b[0mSentimentIntensityAnalyzer\u001b[0m\u001b[0;34m\u001b[0m\u001b[0;34m\u001b[0m\u001b[0m\n\u001b[0;32m----> 6\u001b[0;31m \u001b[0;32mfrom\u001b[0m \u001b[0mgensim\u001b[0m\u001b[0;34m.\u001b[0m\u001b[0mmodels\u001b[0m \u001b[0;32mimport\u001b[0m \u001b[0mWord2Vec\u001b[0m\u001b[0;34m\u001b[0m\u001b[0;34m\u001b[0m\u001b[0m\n\u001b[0m",
      "\u001b[0;31mModuleNotFoundError\u001b[0m: No module named 'gensim'"
     ]
    }
   ],
   "source": [
    "from nltk.tokenize import sent_tokenize, word_tokenize, RegexpTokenizer\n",
    "from nltk.stem import WordNetLemmatizer\n",
    "from nltk.stem.porter import PorterStemmer\n",
    "from nltk.corpus import stopwords\n",
    "from nltk.sentiment.vader import SentimentIntensityAnalyzer\n",
    "from gensim.models import Word2Vec"
   ]
  },
  {
   "cell_type": "code",
   "execution_count": null,
   "id": "7f565d0f-c8f2-42d7-baf7-539809a0c846",
   "metadata": {},
   "outputs": [],
   "source": [
    "df = pd.read_csv('../data/reddit_munged.csv')"
   ]
  },
  {
   "cell_type": "code",
   "execution_count": null,
   "id": "448424ef-b7c6-42b2-b6a1-7258eff97b18",
   "metadata": {},
   "outputs": [],
   "source": [
    "df.head()"
   ]
  },
  {
   "cell_type": "code",
   "execution_count": null,
   "id": "dade73b5-44be-48cb-b2f3-c9a219135a6a",
   "metadata": {},
   "outputs": [],
   "source": [
    "df.isnull().sum() # just checking"
   ]
  },
  {
   "cell_type": "code",
   "execution_count": null,
   "id": "0f4c229c-c265-4f97-9aa2-221b10dbdae0",
   "metadata": {},
   "outputs": [],
   "source": [
    "cv = CountVectorizer(stop_words = 'english', min_df = 100, max_df = 400 )"
   ]
  },
  {
   "cell_type": "markdown",
   "id": "291f0cfb-eb87-40af-af66-d97f40443460",
   "metadata": {},
   "source": [
    "I want to make sure we have a roughly even number of each type of subreddit"
   ]
  },
  {
   "cell_type": "code",
   "execution_count": null,
   "id": "e9b49741-4358-4b72-8912-d2d5fcc82af0",
   "metadata": {},
   "outputs": [],
   "source": [
    "df['subreddit'].value_counts()"
   ]
  },
  {
   "cell_type": "code",
   "execution_count": null,
   "id": "cb1ce917-399d-4259-96eb-bd7b61bb3cdc",
   "metadata": {},
   "outputs": [],
   "source": [
    "X, y = df['selftext'], df['subreddit'].map({'darksouls': 1, 'sekiro': 0})\n",
    "X_train, X_test, y_train, y_test = train_test_split(X,y, stratify = y)\n",
    "\n",
    "X_train_fit = cv.fit_transform(X_train)\n"
   ]
  },
  {
   "cell_type": "code",
   "execution_count": null,
   "id": "3b51d501-c73e-4b03-9dd0-4ac4191b0477",
   "metadata": {},
   "outputs": [],
   "source": [
    "X_train_df = pd.DataFrame(X_train_fit.todense(), columns=cv.get_feature_names())\n",
    "X_test_fit = cv.transform(X_test)\n",
    "X_test_df = pd.DataFrame(X_test_fit.todense(), columns=cv.get_feature_names())"
   ]
  },
  {
   "cell_type": "code",
   "execution_count": null,
   "id": "c5e59e02-a49c-47b4-ac5d-75a942b7136c",
   "metadata": {},
   "outputs": [],
   "source": [
    "counts = X_train_fit.sum(axis=0)\n",
    "word_counts = pd.DataFrame(counts, columns=cv.get_feature_names()).T\n",
    "word_counts.columns =['occurences']"
   ]
  },
  {
   "cell_type": "code",
   "execution_count": null,
   "id": "ebfddf10-d304-458c-8861-54d0f2763e7c",
   "metadata": {},
   "outputs": [],
   "source": [
    "word_counts.sort_values(by = 'occurences', ascending = False).head(10)"
   ]
  },
  {
   "cell_type": "code",
   "execution_count": null,
   "id": "f4f307f6-3b2d-4d91-87c9-15f98df96e9a",
   "metadata": {},
   "outputs": [],
   "source": [
    "from sklearn.linear_model import LogisticRegression\n"
   ]
  },
  {
   "cell_type": "code",
   "execution_count": null,
   "id": "cef7f9b8-070c-448b-9409-324fafbd32ff",
   "metadata": {},
   "outputs": [],
   "source": [
    "lr = LogisticRegression()\n",
    "lr.fit(X_train_df, y_train)"
   ]
  },
  {
   "cell_type": "code",
   "execution_count": null,
   "id": "38b36b31-5593-4cd3-b0ba-c9cef2acf7d3",
   "metadata": {},
   "outputs": [],
   "source": [
    "lr.score(X_train_df, y_train),lr.score(X_test_df, y_test)"
   ]
  },
  {
   "cell_type": "code",
   "execution_count": null,
   "id": "55b04207-f6d4-4ba4-b0d5-1fdb048b206b",
   "metadata": {},
   "outputs": [],
   "source": [
    " test = \"\"\"In 17th century Japan following the Sengoku period, warlord Isshin Ashina staged a coup and seized control of the land of Ashina.[1] During this time, a nameless orphan is adopted by the wandering shinobi named Ukonzaemon Usui, known to many as \"Owl\", who named the boy \"Wolf\" and trained him in the ways of the shinobi. Two decades later, Ashina is on the brink of collapse due to the now elderly Isshin falling ill and the Interior Ministry, a group set on unifying Japan, steadily closing in. Desperate to save his clan, Isshin's adoptive grandson Genichiro seeks the immortal \"Divine Heir\" Kuro in hopes of using \"Dragon Heritage\" in his blood to create an immortal army. Wolf, now a full-fledged shinobi and Kuro's personal bodyguard, fights him but loses the duel along with his left arm while Genichiro takes the boy.\n",
    "\n",
    "Having received Kuro's blood, Wolf survives and is brought to an abandoned temple to recuperate by a Sculptor, a former shinobi known as Sekijo, who now carves Buddha statues. Armed with a Shinobi Prosthetic,[3][8][9] Wolf assaults Ashina Castle and confronts Genichiro again, defeating him. However, Genichiro survives as he drank the \"Rejuvenating Waters\", an artificial replication of the Dragon Heritage. As Wolf rescues Kuro, the two are given the opportunity to flee Ashina forever. However, Kuro instead decides to stay and perform the \"Immortal Severance\" ritual, which would remove his Dragon Heritage and prevent anybody else from fighting over him to obtain immortality. Wolf reluctantly agrees to help and sets out to collect the necessary materials for the ritual, including a special sword that can kill immortals known as the Mortal Blade, which is safeguarded by the immortal \"Child of the Rejuvenating Waters\", the only survivor from an experiment with the Rejuvenating Waters. Wolf crosses paths with Isshin Ashina during his quest, who gives him a new name: \"Sekiro\", the \"one-armed wolf\".\n",
    "\n",
    "After collecting all the components for the ritual, Sekiro is confronted by Owl, who was thought dead years prior. Owl reveals he also seeks the Dragon Heritage and orders Sekiro to renounce his loyalty to Kuro. If Sekiro sides with Owl, he is forced to fight Isshin's doctor, Emma, and Isshin himself. Upon defeating them, Sekiro proceeds to betray Owl while Kuro realizes he has been corrupted by bloodlust, resulting in the \"Shura\" ending. If Kuro is chosen, Sekiro fights and kills Owl. He then uses the gathered items to enter the Divine Realm to collect the final component: the Divine Dragon's tears. Upon returning to Ashina, Sekiro discovers Isshin has succumbed to his illness and that the castle is under attack by the Interior Ministry. Being informed by Emma that Kuro has fled, Sekiro finds him under attack by Genichiro, wielding a second Mortal Blade. Genichiro then challenges Sekiro one last time, only to be defeated once again. Realizing Ashina is lost, Genichiro sacrifices himself by using the Mortal Blade to revive Isshin in his prime so he might restore the clan. Although he disagrees with Genichiro's methods, Isshin honours his grandson's wish and fights Sekiro.\n",
    "\n",
    "After defeating Isshin, there are three possible endings. Giving Kuro the Dragon Tears results in the standard ending, \"Immortal Severance,\" where the Dragon Heritage is removed at the cost of Kuro's life. Afterwards, Sekiro takes the Sculptor's place at the abandoned temple and ends his life as a shinobi. Working with Emma to find a way to complete the ritual without Kuro having to die will result in the \"Purification\" ending, where Sekiro manages to save Kuro at the cost of his own life. The final ending, \"Dragon's Homecoming\", is obtained by helping the Divine Child of the Rejuvenating Waters. Kuro's body dies, but his spirit lives on inside the Divine Child. Afterwards, Sekiro chooses to follow the Divine Child on a journey to return the Dragon Heritage to its birthplace.\n",
    "\n",
    "The story also features a series of gameplay segments taking place three years before the main plot, explaining the events leading to Sekiro receiving the dragon's heritage. During the year of the dragon spring pilgrimage, the Hirata estate, the home of one of the Ashina's cadet branches and Kuro's birthplace, was raided by bandits. While making his way to Kuro, Sekiro discovers that the raid was orchestrated by a shinobi who trained him in the past, Lady Butterfly, who tried to kidnap Kuro. After defeating Lady Butterfly, Sekiro is stabbed in the back by an unseen assailant, later revealed to be Owl, who orchestrated the whole raid, but survives thanks to Kuro gifting him with the dragon's heritage.\n",
    "\"\"\"\n"
   ]
  },
  {
   "cell_type": "code",
   "execution_count": null,
   "id": "5c284cd0-1ea7-4878-9a96-26dc39d4c330",
   "metadata": {},
   "outputs": [],
   "source": []
  },
  {
   "cell_type": "code",
   "execution_count": null,
   "id": "6587e075-eda8-4bcd-9c9d-e99f18bca02e",
   "metadata": {},
   "outputs": [],
   "source": [
    "test_cv = cv.transform([test])"
   ]
  },
  {
   "cell_type": "code",
   "execution_count": null,
   "id": "ea09a197-f1d6-49c5-b33b-70c2f00256e0",
   "metadata": {},
   "outputs": [],
   "source": [
    "test_df =  pd.DataFrame(test_cv.todense(), columns=cv.get_feature_names())\n"
   ]
  },
  {
   "cell_type": "code",
   "execution_count": null,
   "id": "8003ec28-3ac4-4f81-aa15-56b56131844e",
   "metadata": {},
   "outputs": [],
   "source": [
    "lr.predict(test_df)"
   ]
  },
  {
   "cell_type": "code",
   "execution_count": null,
   "id": "29c533f7-4255-41ee-b319-40f7e26ac6e9",
   "metadata": {},
   "outputs": [],
   "source": [
    "import pickle"
   ]
  },
  {
   "cell_type": "code",
   "execution_count": null,
   "id": "9e12acba-1673-41db-88e6-3116cbbf4c2e",
   "metadata": {},
   "outputs": [],
   "source": []
  },
  {
   "cell_type": "code",
   "execution_count": null,
   "id": "5a79cc0f-ad0a-404d-b5c6-db83ffec0f49",
   "metadata": {},
   "outputs": [],
   "source": []
  },
  {
   "cell_type": "code",
   "execution_count": null,
   "id": "8e9bfbc3-ab45-4792-be56-dab0958b19bd",
   "metadata": {},
   "outputs": [],
   "source": [
    "coefs = pd.DataFrame(lr.coef_, columns=X_train_df.columns).T\n",
    "coefs.columns = ['Coef']\n",
    "coefs.sort_values('Coef', ascending = False).head(10)"
   ]
  },
  {
   "cell_type": "code",
   "execution_count": null,
   "id": "8116b113-fe75-4301-bcde-7f2c1db33acb",
   "metadata": {},
   "outputs": [],
   "source": [
    "coefs.sort_values('Coef', ascending = False).tail(10)"
   ]
  },
  {
   "cell_type": "code",
   "execution_count": null,
   "id": "f23cee90-a7c8-4442-a7e7-13266252439b",
   "metadata": {},
   "outputs": [],
   "source": [
    "with open('../pickels/logregmodel_text_coefs.pkl', mode ='wb') as pickle_out:\n",
    "    pickle.dump(coefs, pickle_out)\n",
    "    \n",
    "    \n",
    "with open('../pickels/logregmodel_text_coefs.pkl', mode ='wb') as pickle_out:\n",
    "    pickle.dump(coefs, pickle_out)"
   ]
  },
  {
   "cell_type": "code",
   "execution_count": null,
   "id": "0b008751-9f53-4450-8939-21b7a17a7bed",
   "metadata": {},
   "outputs": [],
   "source": [
    "with open('../pickels/X_test_text.pkl', mode ='wb') as pickle_out:\n",
    "    pickle.dump(X_test_df, pickle_out)\n",
    "    \n",
    "with open('../pickels/X_train_text.pkl', mode ='wb') as pickle_out:\n",
    "    pickle.dump(X_train_df, pickle_out)\n",
    "    \n",
    "with open('../pickels/y_test_text.pkl', mode ='wb') as pickle_out:\n",
    "    pickle.dump(y_test, pickle_out)\n",
    "    \n",
    "with open('../pickels/y_train_text.pkl', mode ='wb') as pickle_out:\n",
    "    pickle.dump(y_train, pickle_out)\n",
    "    "
   ]
  },
  {
   "cell_type": "code",
   "execution_count": null,
   "id": "bebbbe0f-1253-42e6-9c16-47be48d6cbe6",
   "metadata": {},
   "outputs": [],
   "source": [
    "with open('../pickels/logregmodel_text.pkl', mode ='wb') as pickle_out:\n",
    "    pickle.dump(lr, pickle_out)"
   ]
  },
  {
   "cell_type": "code",
   "execution_count": null,
   "id": "0dd57884-e903-4f00-960b-79d1060f8695",
   "metadata": {},
   "outputs": [],
   "source": [
    "with open('../pickels/cv.pkl', mode ='wb') as pickle_out:\n",
    "    pickle.dump(cv, pickle_out)"
   ]
  },
  {
   "cell_type": "code",
   "execution_count": null,
   "id": "9d570049-8ebe-49aa-ba89-d3edfceaf2fd",
   "metadata": {},
   "outputs": [],
   "source": []
  }
 ],
 "metadata": {
  "kernelspec": {
   "display_name": "Python 3",
   "language": "python",
   "name": "python3"
  },
  "language_info": {
   "codemirror_mode": {
    "name": "ipython",
    "version": 3
   },
   "file_extension": ".py",
   "mimetype": "text/x-python",
   "name": "python",
   "nbconvert_exporter": "python",
   "pygments_lexer": "ipython3",
   "version": "3.8.8"
  }
 },
 "nbformat": 4,
 "nbformat_minor": 5
}
