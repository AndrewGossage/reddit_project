{
 "cells": [
  {
   "cell_type": "code",
   "execution_count": 1,
   "id": "11a3cce1-d475-456f-8cc3-839c7dda3659",
   "metadata": {},
   "outputs": [],
   "source": [
    "import pandas as pd\n",
    "import numpy as np\n",
    "import matplotlib.pyplot as plt\n",
    "import seaborn as sns\n",
    "from sklearn.feature_extraction.text import CountVectorizer\n",
    "from sklearn.model_selection import train_test_split"
   ]
  },
  {
   "cell_type": "code",
   "execution_count": 2,
   "id": "614fa967-efb4-4575-9958-0d94856a0798",
   "metadata": {},
   "outputs": [],
   "source": [
    "from nltk.tokenize import sent_tokenize, word_tokenize, RegexpTokenizer\n",
    "from nltk.stem import WordNetLemmatizer\n",
    "from nltk.stem.porter import PorterStemmer\n",
    "from nltk.corpus import stopwords\n",
    "from nltk.sentiment.vader import SentimentIntensityAnalyzer\n",
    "from gensim.models import Word2Vec"
   ]
  },
  {
   "cell_type": "code",
   "execution_count": 3,
   "id": "7f565d0f-c8f2-42d7-baf7-539809a0c846",
   "metadata": {},
   "outputs": [],
   "source": [
    "df = pd.read_csv('../data/reddit_munged.csv')"
   ]
  },
  {
   "cell_type": "code",
   "execution_count": 4,
   "id": "448424ef-b7c6-42b2-b6a1-7258eff97b18",
   "metadata": {},
   "outputs": [
    {
     "data": {
      "text/html": [
       "<div>\n",
       "<style scoped>\n",
       "    .dataframe tbody tr th:only-of-type {\n",
       "        vertical-align: middle;\n",
       "    }\n",
       "\n",
       "    .dataframe tbody tr th {\n",
       "        vertical-align: top;\n",
       "    }\n",
       "\n",
       "    .dataframe thead th {\n",
       "        text-align: right;\n",
       "    }\n",
       "</style>\n",
       "<table border=\"1\" class=\"dataframe\">\n",
       "  <thead>\n",
       "    <tr style=\"text-align: right;\">\n",
       "      <th></th>\n",
       "      <th>title</th>\n",
       "      <th>subreddit</th>\n",
       "      <th>selftext</th>\n",
       "      <th>created_utc</th>\n",
       "    </tr>\n",
       "  </thead>\n",
       "  <tbody>\n",
       "    <tr>\n",
       "      <th>0</th>\n",
       "      <td>Help a knight out pls?!</td>\n",
       "      <td>darksouls</td>\n",
       "      <td>Hey can you guys help me out?? What are the be...</td>\n",
       "      <td>1630950347</td>\n",
       "    </tr>\n",
       "    <tr>\n",
       "      <th>1</th>\n",
       "      <td>Fire weapons?</td>\n",
       "      <td>darksouls</td>\n",
       "      <td>Yeah how do i get a weapon with fire dmg or ot...</td>\n",
       "      <td>1630949405</td>\n",
       "    </tr>\n",
       "    <tr>\n",
       "      <th>2</th>\n",
       "      <td>Iron Golem lore</td>\n",
       "      <td>darksouls</td>\n",
       "      <td>Has anyone found any mentions of the iron gole...</td>\n",
       "      <td>1630949186</td>\n",
       "    </tr>\n",
       "    <tr>\n",
       "      <th>3</th>\n",
       "      <td>I got cursed and have no idea what to do?</td>\n",
       "      <td>darksouls</td>\n",
       "      <td>I recently just defeated the capra demon, went...</td>\n",
       "      <td>1630948149</td>\n",
       "    </tr>\n",
       "    <tr>\n",
       "      <th>4</th>\n",
       "      <td>DS platinum trophy</td>\n",
       "      <td>darksouls</td>\n",
       "      <td>Recently platinumed Dark Souls. Kinda wanted t...</td>\n",
       "      <td>1630948149</td>\n",
       "    </tr>\n",
       "  </tbody>\n",
       "</table>\n",
       "</div>"
      ],
      "text/plain": [
       "                                       title  subreddit  \\\n",
       "0                    Help a knight out pls?!  darksouls   \n",
       "1                              Fire weapons?  darksouls   \n",
       "2                            Iron Golem lore  darksouls   \n",
       "3  I got cursed and have no idea what to do?  darksouls   \n",
       "4                         DS platinum trophy  darksouls   \n",
       "\n",
       "                                            selftext  created_utc  \n",
       "0  Hey can you guys help me out?? What are the be...   1630950347  \n",
       "1  Yeah how do i get a weapon with fire dmg or ot...   1630949405  \n",
       "2  Has anyone found any mentions of the iron gole...   1630949186  \n",
       "3  I recently just defeated the capra demon, went...   1630948149  \n",
       "4  Recently platinumed Dark Souls. Kinda wanted t...   1630948149  "
      ]
     },
     "execution_count": 4,
     "metadata": {},
     "output_type": "execute_result"
    }
   ],
   "source": [
    "df.head()"
   ]
  },
  {
   "cell_type": "code",
   "execution_count": 5,
   "id": "dade73b5-44be-48cb-b2f3-c9a219135a6a",
   "metadata": {},
   "outputs": [
    {
     "data": {
      "text/plain": [
       "title          0\n",
       "subreddit      0\n",
       "selftext       0\n",
       "created_utc    0\n",
       "dtype: int64"
      ]
     },
     "execution_count": 5,
     "metadata": {},
     "output_type": "execute_result"
    }
   ],
   "source": [
    "df.isnull().sum() # just checking"
   ]
  },
  {
   "cell_type": "code",
   "execution_count": 6,
   "id": "0f4c229c-c265-4f97-9aa2-221b10dbdae0",
   "metadata": {},
   "outputs": [],
   "source": [
    "cv = CountVectorizer(stop_words = 'english', min_df = 100, max_df = 400 )"
   ]
  },
  {
   "cell_type": "markdown",
   "id": "291f0cfb-eb87-40af-af66-d97f40443460",
   "metadata": {},
   "source": [
    "I want to make sure we have a roughly even number of each type of subreddit"
   ]
  },
  {
   "cell_type": "code",
   "execution_count": 7,
   "id": "e9b49741-4358-4b72-8912-d2d5fcc82af0",
   "metadata": {},
   "outputs": [
    {
     "data": {
      "text/plain": [
       "sekiro       10400\n",
       "darksouls    10000\n",
       "Name: subreddit, dtype: int64"
      ]
     },
     "execution_count": 7,
     "metadata": {},
     "output_type": "execute_result"
    }
   ],
   "source": [
    "df['subreddit'].value_counts()"
   ]
  },
  {
   "cell_type": "code",
   "execution_count": 8,
   "id": "cb1ce917-399d-4259-96eb-bd7b61bb3cdc",
   "metadata": {},
   "outputs": [],
   "source": [
    "X, y = df['title'], df['subreddit'].map({'darksouls': 1, 'sekiro': 0})\n",
    "X_train, X_test, y_train, y_test = train_test_split(X,y, stratify = y)\n",
    "\n",
    "X_train_fit = cv.fit_transform(X_train)\n"
   ]
  },
  {
   "cell_type": "code",
   "execution_count": 9,
   "id": "3b51d501-c73e-4b03-9dd0-4ac4191b0477",
   "metadata": {},
   "outputs": [],
   "source": [
    "X_train_df = pd.DataFrame(X_train_fit.todense(), columns=cv.get_feature_names())\n",
    "X_test_fit = cv.transform(X_test)\n",
    "X_test_df = pd.DataFrame(X_test_fit.todense(), columns=cv.get_feature_names())"
   ]
  },
  {
   "cell_type": "code",
   "execution_count": 10,
   "id": "c5e59e02-a49c-47b4-ac5d-75a942b7136c",
   "metadata": {},
   "outputs": [],
   "source": [
    "counts = X_train_fit.sum(axis=0)\n",
    "word_counts = pd.DataFrame(counts, columns=cv.get_feature_names()).T\n",
    "word_counts.columns =['occurences']"
   ]
  },
  {
   "cell_type": "code",
   "execution_count": 11,
   "id": "ebfddf10-d304-458c-8861-54d0f2763e7c",
   "metadata": {},
   "outputs": [
    {
     "data": {
      "text/html": [
       "<div>\n",
       "<style scoped>\n",
       "    .dataframe tbody tr th:only-of-type {\n",
       "        vertical-align: middle;\n",
       "    }\n",
       "\n",
       "    .dataframe tbody tr th {\n",
       "        vertical-align: top;\n",
       "    }\n",
       "\n",
       "    .dataframe thead th {\n",
       "        text-align: right;\n",
       "    }\n",
       "</style>\n",
       "<table border=\"1\" class=\"dataframe\">\n",
       "  <thead>\n",
       "    <tr style=\"text-align: right;\">\n",
       "      <th></th>\n",
       "      <th>occurences</th>\n",
       "    </tr>\n",
       "  </thead>\n",
       "  <tbody>\n",
       "    <tr>\n",
       "      <th>sword</th>\n",
       "      <td>517</td>\n",
       "    </tr>\n",
       "    <tr>\n",
       "      <th>does</th>\n",
       "      <td>436</td>\n",
       "    </tr>\n",
       "    <tr>\n",
       "      <th>good</th>\n",
       "      <td>400</td>\n",
       "    </tr>\n",
       "    <tr>\n",
       "      <th>second</th>\n",
       "      <td>378</td>\n",
       "    </tr>\n",
       "    <tr>\n",
       "      <th>butterfly</th>\n",
       "      <td>372</td>\n",
       "    </tr>\n",
       "    <tr>\n",
       "      <th>better</th>\n",
       "      <td>366</td>\n",
       "    </tr>\n",
       "    <tr>\n",
       "      <th>try</th>\n",
       "      <td>362</td>\n",
       "    </tr>\n",
       "    <tr>\n",
       "      <th>parry</th>\n",
       "      <td>361</td>\n",
       "    </tr>\n",
       "    <tr>\n",
       "      <th>soul</th>\n",
       "      <td>322</td>\n",
       "    </tr>\n",
       "    <tr>\n",
       "      <th>finally</th>\n",
       "      <td>316</td>\n",
       "    </tr>\n",
       "  </tbody>\n",
       "</table>\n",
       "</div>"
      ],
      "text/plain": [
       "           occurences\n",
       "sword             517\n",
       "does              436\n",
       "good              400\n",
       "second            378\n",
       "butterfly         372\n",
       "better            366\n",
       "try               362\n",
       "parry             361\n",
       "soul              322\n",
       "finally           316"
      ]
     },
     "execution_count": 11,
     "metadata": {},
     "output_type": "execute_result"
    }
   ],
   "source": [
    "word_counts.sort_values(by = 'occurences', ascending = False).head(10)"
   ]
  },
  {
   "cell_type": "code",
   "execution_count": 12,
   "id": "f4f307f6-3b2d-4d91-87c9-15f98df96e9a",
   "metadata": {},
   "outputs": [],
   "source": [
    "from sklearn.linear_model import LogisticRegression\n"
   ]
  },
  {
   "cell_type": "code",
   "execution_count": 13,
   "id": "cef7f9b8-070c-448b-9409-324fafbd32ff",
   "metadata": {},
   "outputs": [
    {
     "data": {
      "text/plain": [
       "LogisticRegression()"
      ]
     },
     "execution_count": 13,
     "metadata": {},
     "output_type": "execute_result"
    }
   ],
   "source": [
    "lr = LogisticRegression()\n",
    "lr.fit(X_train_df, y_train)"
   ]
  },
  {
   "cell_type": "code",
   "execution_count": 14,
   "id": "38b36b31-5593-4cd3-b0ba-c9cef2acf7d3",
   "metadata": {},
   "outputs": [
    {
     "data": {
      "text/plain": [
       "(0.9606535947712418, 0.9596078431372549)"
      ]
     },
     "execution_count": 14,
     "metadata": {},
     "output_type": "execute_result"
    }
   ],
   "source": [
    "lr.score(X_train_df, y_train),lr.score(X_test_df, y_test)"
   ]
  },
  {
   "cell_type": "code",
   "execution_count": 15,
   "id": "55b04207-f6d4-4ba4-b0d5-1fdb048b206b",
   "metadata": {},
   "outputs": [],
   "source": [
    " test = \"\"\"In 17th century Japan following the Sengoku period, warlord Isshin Ashina staged a coup and seized control of the land of Ashina.[1] During this time, a nameless orphan is adopted by the wandering shinobi named Ukonzaemon Usui, known to many as \"Owl\", who named the boy \"Wolf\" and trained him in the ways of the shinobi. Two decades later, Ashina is on the brink of collapse due to the now elderly Isshin falling ill and the Interior Ministry, a group set on unifying Japan, steadily closing in. Desperate to save his clan, Isshin's adoptive grandson Genichiro seeks the immortal \"Divine Heir\" Kuro in hopes of using \"Dragon Heritage\" in his blood to create an immortal army. Wolf, now a full-fledged shinobi and Kuro's personal bodyguard, fights him but loses the duel along with his left arm while Genichiro takes the boy.\n",
    "\n",
    "Having received Kuro's blood, Wolf survives and is brought to an abandoned temple to recuperate by a Sculptor, a former shinobi known as Sekijo, who now carves Buddha statues. Armed with a Shinobi Prosthetic,[3][8][9] Wolf assaults Ashina Castle and confronts Genichiro again, defeating him. However, Genichiro survives as he drank the \"Rejuvenating Waters\", an artificial replication of the Dragon Heritage. As Wolf rescues Kuro, the two are given the opportunity to flee Ashina forever. However, Kuro instead decides to stay and perform the \"Immortal Severance\" ritual, which would remove his Dragon Heritage and prevent anybody else from fighting over him to obtain immortality. Wolf reluctantly agrees to help and sets out to collect the necessary materials for the ritual, including a special sword that can kill immortals known as the Mortal Blade, which is safeguarded by the immortal \"Child of the Rejuvenating Waters\", the only survivor from an experiment with the Rejuvenating Waters. Wolf crosses paths with Isshin Ashina during his quest, who gives him a new name: \"Sekiro\", the \"one-armed wolf\".\n",
    "\n",
    "After collecting all the components for the ritual, Sekiro is confronted by Owl, who was thought dead years prior. Owl reveals he also seeks the Dragon Heritage and orders Sekiro to renounce his loyalty to Kuro. If Sekiro sides with Owl, he is forced to fight Isshin's doctor, Emma, and Isshin himself. Upon defeating them, Sekiro proceeds to betray Owl while Kuro realizes he has been corrupted by bloodlust, resulting in the \"Shura\" ending. If Kuro is chosen, Sekiro fights and kills Owl. He then uses the gathered items to enter the Divine Realm to collect the final component: the Divine Dragon's tears. Upon returning to Ashina, Sekiro discovers Isshin has succumbed to his illness and that the castle is under attack by the Interior Ministry. Being informed by Emma that Kuro has fled, Sekiro finds him under attack by Genichiro, wielding a second Mortal Blade. Genichiro then challenges Sekiro one last time, only to be defeated once again. Realizing Ashina is lost, Genichiro sacrifices himself by using the Mortal Blade to revive Isshin in his prime so he might restore the clan. Although he disagrees with Genichiro's methods, Isshin honours his grandson's wish and fights Sekiro.\n",
    "\n",
    "After defeating Isshin, there are three possible endings. Giving Kuro the Dragon Tears results in the standard ending, \"Immortal Severance,\" where the Dragon Heritage is removed at the cost of Kuro's life. Afterwards, Sekiro takes the Sculptor's place at the abandoned temple and ends his life as a shinobi. Working with Emma to find a way to complete the ritual without Kuro having to die will result in the \"Purification\" ending, where Sekiro manages to save Kuro at the cost of his own life. The final ending, \"Dragon's Homecoming\", is obtained by helping the Divine Child of the Rejuvenating Waters. Kuro's body dies, but his spirit lives on inside the Divine Child. Afterwards, Sekiro chooses to follow the Divine Child on a journey to return the Dragon Heritage to its birthplace.\n",
    "\n",
    "The story also features a series of gameplay segments taking place three years before the main plot, explaining the events leading to Sekiro receiving the dragon's heritage. During the year of the dragon spring pilgrimage, the Hirata estate, the home of one of the Ashina's cadet branches and Kuro's birthplace, was raided by bandits. While making his way to Kuro, Sekiro discovers that the raid was orchestrated by a shinobi who trained him in the past, Lady Butterfly, who tried to kidnap Kuro. After defeating Lady Butterfly, Sekiro is stabbed in the back by an unseen assailant, later revealed to be Owl, who orchestrated the whole raid, but survives thanks to Kuro gifting him with the dragon's heritage.\n",
    "\"\"\"\n"
   ]
  },
  {
   "cell_type": "code",
   "execution_count": null,
   "id": "5c284cd0-1ea7-4878-9a96-26dc39d4c330",
   "metadata": {},
   "outputs": [],
   "source": []
  },
  {
   "cell_type": "code",
   "execution_count": 16,
   "id": "6587e075-eda8-4bcd-9c9d-e99f18bca02e",
   "metadata": {},
   "outputs": [],
   "source": [
    "test_cv = cv.transform([test])"
   ]
  },
  {
   "cell_type": "code",
   "execution_count": 17,
   "id": "ea09a197-f1d6-49c5-b33b-70c2f00256e0",
   "metadata": {},
   "outputs": [],
   "source": [
    "test_df =  pd.DataFrame(test_cv.todense(), columns=cv.get_feature_names())\n"
   ]
  },
  {
   "cell_type": "code",
   "execution_count": 18,
   "id": "8003ec28-3ac4-4f81-aa15-56b56131844e",
   "metadata": {},
   "outputs": [
    {
     "data": {
      "text/plain": [
       "array([0])"
      ]
     },
     "execution_count": 18,
     "metadata": {},
     "output_type": "execute_result"
    }
   ],
   "source": [
    "lr.predict(test_df)"
   ]
  },
  {
   "cell_type": "code",
   "execution_count": 19,
   "id": "29c533f7-4255-41ee-b319-40f7e26ac6e9",
   "metadata": {},
   "outputs": [],
   "source": [
    "import pickle"
   ]
  },
  {
   "cell_type": "code",
   "execution_count": 20,
   "id": "9e12acba-1673-41db-88e6-3116cbbf4c2e",
   "metadata": {},
   "outputs": [],
   "source": [
    "with open('../pickels/model1.pkl', mode ='wb') as pickle_out:\n",
    "    pickle.dump(lr, pickle_out)\n",
    "    \n",
    "with open('../pickels/test.pkl', mode ='wb') as pickle_out:\n",
    "    temp = X_test_df.join(y_test)\n",
    "    pickle.dump(X_test_df, pickle_out)\n",
    "with open('../pickels/train.pkl', mode ='wb') as pickle_out:\n",
    "    temp = X_train_df.join(y_train)\n",
    "    pickle.dump(temp, pickle_out)\n",
    "with open('../pickels/dataformated.pkl', mode ='wb') as pickle_out:\n",
    "    temp = pd.concat([X_train_df.join(y_train), X_test_df.join(y_test)])\n",
    "    pickle.dump(temp, pickle_out)"
   ]
  },
  {
   "cell_type": "code",
   "execution_count": 21,
   "id": "5a79cc0f-ad0a-404d-b5c6-db83ffec0f49",
   "metadata": {},
   "outputs": [
    {
     "data": {
      "text/html": [
       "<div>\n",
       "<style scoped>\n",
       "    .dataframe tbody tr th:only-of-type {\n",
       "        vertical-align: middle;\n",
       "    }\n",
       "\n",
       "    .dataframe tbody tr th {\n",
       "        vertical-align: top;\n",
       "    }\n",
       "\n",
       "    .dataframe thead th {\n",
       "        text-align: right;\n",
       "    }\n",
       "</style>\n",
       "<table border=\"1\" class=\"dataframe\">\n",
       "  <thead>\n",
       "    <tr style=\"text-align: right;\">\n",
       "      <th></th>\n",
       "      <th>2nd</th>\n",
       "      <th>5600xt</th>\n",
       "      <th>able</th>\n",
       "      <th>advice</th>\n",
       "      <th>advise</th>\n",
       "      <th>amp</th>\n",
       "      <th>appearance</th>\n",
       "      <th>armor</th>\n",
       "      <th>armored</th>\n",
       "      <th>ash</th>\n",
       "      <th>...</th>\n",
       "      <th>warrior</th>\n",
       "      <th>waters</th>\n",
       "      <th>weapon</th>\n",
       "      <th>weapons</th>\n",
       "      <th>white</th>\n",
       "      <th>won</th>\n",
       "      <th>work</th>\n",
       "      <th>world</th>\n",
       "      <th>worth</th>\n",
       "      <th>subreddit</th>\n",
       "    </tr>\n",
       "  </thead>\n",
       "  <tbody>\n",
       "    <tr>\n",
       "      <th>0</th>\n",
       "      <td>0</td>\n",
       "      <td>0</td>\n",
       "      <td>0</td>\n",
       "      <td>0</td>\n",
       "      <td>0</td>\n",
       "      <td>0</td>\n",
       "      <td>0</td>\n",
       "      <td>0</td>\n",
       "      <td>0</td>\n",
       "      <td>0</td>\n",
       "      <td>...</td>\n",
       "      <td>0</td>\n",
       "      <td>0</td>\n",
       "      <td>0</td>\n",
       "      <td>0</td>\n",
       "      <td>0</td>\n",
       "      <td>0</td>\n",
       "      <td>0</td>\n",
       "      <td>0</td>\n",
       "      <td>0</td>\n",
       "      <td>1.0</td>\n",
       "    </tr>\n",
       "    <tr>\n",
       "      <th>1</th>\n",
       "      <td>0</td>\n",
       "      <td>0</td>\n",
       "      <td>0</td>\n",
       "      <td>0</td>\n",
       "      <td>0</td>\n",
       "      <td>0</td>\n",
       "      <td>0</td>\n",
       "      <td>0</td>\n",
       "      <td>0</td>\n",
       "      <td>0</td>\n",
       "      <td>...</td>\n",
       "      <td>0</td>\n",
       "      <td>0</td>\n",
       "      <td>0</td>\n",
       "      <td>0</td>\n",
       "      <td>0</td>\n",
       "      <td>0</td>\n",
       "      <td>0</td>\n",
       "      <td>0</td>\n",
       "      <td>0</td>\n",
       "      <td>1.0</td>\n",
       "    </tr>\n",
       "    <tr>\n",
       "      <th>2</th>\n",
       "      <td>0</td>\n",
       "      <td>0</td>\n",
       "      <td>0</td>\n",
       "      <td>0</td>\n",
       "      <td>0</td>\n",
       "      <td>0</td>\n",
       "      <td>0</td>\n",
       "      <td>0</td>\n",
       "      <td>0</td>\n",
       "      <td>0</td>\n",
       "      <td>...</td>\n",
       "      <td>0</td>\n",
       "      <td>0</td>\n",
       "      <td>0</td>\n",
       "      <td>0</td>\n",
       "      <td>0</td>\n",
       "      <td>0</td>\n",
       "      <td>0</td>\n",
       "      <td>0</td>\n",
       "      <td>0</td>\n",
       "      <td>1.0</td>\n",
       "    </tr>\n",
       "    <tr>\n",
       "      <th>3</th>\n",
       "      <td>0</td>\n",
       "      <td>0</td>\n",
       "      <td>0</td>\n",
       "      <td>0</td>\n",
       "      <td>0</td>\n",
       "      <td>0</td>\n",
       "      <td>0</td>\n",
       "      <td>0</td>\n",
       "      <td>0</td>\n",
       "      <td>0</td>\n",
       "      <td>...</td>\n",
       "      <td>0</td>\n",
       "      <td>0</td>\n",
       "      <td>0</td>\n",
       "      <td>0</td>\n",
       "      <td>0</td>\n",
       "      <td>0</td>\n",
       "      <td>0</td>\n",
       "      <td>0</td>\n",
       "      <td>0</td>\n",
       "      <td>1.0</td>\n",
       "    </tr>\n",
       "    <tr>\n",
       "      <th>4</th>\n",
       "      <td>0</td>\n",
       "      <td>0</td>\n",
       "      <td>0</td>\n",
       "      <td>0</td>\n",
       "      <td>0</td>\n",
       "      <td>0</td>\n",
       "      <td>0</td>\n",
       "      <td>0</td>\n",
       "      <td>0</td>\n",
       "      <td>0</td>\n",
       "      <td>...</td>\n",
       "      <td>0</td>\n",
       "      <td>0</td>\n",
       "      <td>0</td>\n",
       "      <td>0</td>\n",
       "      <td>0</td>\n",
       "      <td>0</td>\n",
       "      <td>0</td>\n",
       "      <td>0</td>\n",
       "      <td>0</td>\n",
       "      <td>1.0</td>\n",
       "    </tr>\n",
       "  </tbody>\n",
       "</table>\n",
       "<p>5 rows × 190 columns</p>\n",
       "</div>"
      ],
      "text/plain": [
       "   2nd  5600xt  able  advice  advise  amp  appearance  armor  armored  ash  \\\n",
       "0    0       0     0       0       0    0           0      0        0    0   \n",
       "1    0       0     0       0       0    0           0      0        0    0   \n",
       "2    0       0     0       0       0    0           0      0        0    0   \n",
       "3    0       0     0       0       0    0           0      0        0    0   \n",
       "4    0       0     0       0       0    0           0      0        0    0   \n",
       "\n",
       "   ...  warrior  waters  weapon  weapons  white  won  work  world  worth  \\\n",
       "0  ...        0       0       0        0      0    0     0      0      0   \n",
       "1  ...        0       0       0        0      0    0     0      0      0   \n",
       "2  ...        0       0       0        0      0    0     0      0      0   \n",
       "3  ...        0       0       0        0      0    0     0      0      0   \n",
       "4  ...        0       0       0        0      0    0     0      0      0   \n",
       "\n",
       "   subreddit  \n",
       "0        1.0  \n",
       "1        1.0  \n",
       "2        1.0  \n",
       "3        1.0  \n",
       "4        1.0  \n",
       "\n",
       "[5 rows x 190 columns]"
      ]
     },
     "execution_count": 21,
     "metadata": {},
     "output_type": "execute_result"
    }
   ],
   "source": [
    "temp.head()"
   ]
  },
  {
   "cell_type": "code",
   "execution_count": 22,
   "id": "8e9bfbc3-ab45-4792-be56-dab0958b19bd",
   "metadata": {},
   "outputs": [
    {
     "data": {
      "text/html": [
       "<div>\n",
       "<style scoped>\n",
       "    .dataframe tbody tr th:only-of-type {\n",
       "        vertical-align: middle;\n",
       "    }\n",
       "\n",
       "    .dataframe tbody tr th {\n",
       "        vertical-align: top;\n",
       "    }\n",
       "\n",
       "    .dataframe thead th {\n",
       "        text-align: right;\n",
       "    }\n",
       "</style>\n",
       "<table border=\"1\" class=\"dataframe\">\n",
       "  <thead>\n",
       "    <tr style=\"text-align: right;\">\n",
       "      <th></th>\n",
       "      <th>Coef</th>\n",
       "    </tr>\n",
       "  </thead>\n",
       "  <tbody>\n",
       "    <tr>\n",
       "      <th>smough</th>\n",
       "      <td>5.525604</td>\n",
       "    </tr>\n",
       "    <tr>\n",
       "      <th>quick</th>\n",
       "      <td>4.409929</td>\n",
       "    </tr>\n",
       "    <tr>\n",
       "      <th>depths</th>\n",
       "      <td>3.322535</td>\n",
       "    </tr>\n",
       "    <tr>\n",
       "      <th>ds</th>\n",
       "      <td>3.289306</td>\n",
       "    </tr>\n",
       "    <tr>\n",
       "      <th>weapons</th>\n",
       "      <td>3.279091</td>\n",
       "    </tr>\n",
       "    <tr>\n",
       "      <th>blighttown</th>\n",
       "      <td>3.219927</td>\n",
       "    </tr>\n",
       "    <tr>\n",
       "      <th>ds1</th>\n",
       "      <td>3.074953</td>\n",
       "    </tr>\n",
       "    <tr>\n",
       "      <th>build</th>\n",
       "      <td>3.051071</td>\n",
       "    </tr>\n",
       "    <tr>\n",
       "      <th>killed</th>\n",
       "      <td>2.923094</td>\n",
       "    </tr>\n",
       "    <tr>\n",
       "      <th>armor</th>\n",
       "      <td>2.852155</td>\n",
       "    </tr>\n",
       "  </tbody>\n",
       "</table>\n",
       "</div>"
      ],
      "text/plain": [
       "                Coef\n",
       "smough      5.525604\n",
       "quick       4.409929\n",
       "depths      3.322535\n",
       "ds          3.289306\n",
       "weapons     3.279091\n",
       "blighttown  3.219927\n",
       "ds1         3.074953\n",
       "build       3.051071\n",
       "killed      2.923094\n",
       "armor       2.852155"
      ]
     },
     "execution_count": 22,
     "metadata": {},
     "output_type": "execute_result"
    }
   ],
   "source": [
    "coefs = pd.DataFrame(lr.coef_, columns=X_train_df.columns).T\n",
    "coefs.columns = ['Coef']\n",
    "coefs.sort_values('Coef', ascending = False).head(10)"
   ]
  },
  {
   "cell_type": "code",
   "execution_count": 23,
   "id": "8116b113-fe75-4301-bcde-7f2c1db33acb",
   "metadata": {},
   "outputs": [
    {
     "data": {
      "text/html": [
       "<div>\n",
       "<style scoped>\n",
       "    .dataframe tbody tr th:only-of-type {\n",
       "        vertical-align: middle;\n",
       "    }\n",
       "\n",
       "    .dataframe tbody tr th {\n",
       "        vertical-align: top;\n",
       "    }\n",
       "\n",
       "    .dataframe thead th {\n",
       "        text-align: right;\n",
       "    }\n",
       "</style>\n",
       "<table border=\"1\" class=\"dataframe\">\n",
       "  <thead>\n",
       "    <tr style=\"text-align: right;\">\n",
       "      <th></th>\n",
       "      <th>Coef</th>\n",
       "    </tr>\n",
       "  </thead>\n",
       "  <tbody>\n",
       "    <tr>\n",
       "      <th>warmup</th>\n",
       "      <td>-4.477116</td>\n",
       "    </tr>\n",
       "    <tr>\n",
       "      <th>headless</th>\n",
       "      <td>-4.672979</td>\n",
       "    </tr>\n",
       "    <tr>\n",
       "      <th>love</th>\n",
       "      <td>-4.678711</td>\n",
       "    </tr>\n",
       "    <tr>\n",
       "      <th>5600xt</th>\n",
       "      <td>-4.695682</td>\n",
       "    </tr>\n",
       "    <tr>\n",
       "      <th>advise</th>\n",
       "      <td>-4.695682</td>\n",
       "    </tr>\n",
       "    <tr>\n",
       "      <th>vs</th>\n",
       "      <td>-4.743654</td>\n",
       "    </tr>\n",
       "    <tr>\n",
       "      <th>grinding</th>\n",
       "      <td>-4.770720</td>\n",
       "    </tr>\n",
       "    <tr>\n",
       "      <th>advice</th>\n",
       "      <td>-4.868249</td>\n",
       "    </tr>\n",
       "    <tr>\n",
       "      <th>demake</th>\n",
       "      <td>-5.264791</td>\n",
       "    </tr>\n",
       "    <tr>\n",
       "      <th>worth</th>\n",
       "      <td>-5.720662</td>\n",
       "    </tr>\n",
       "  </tbody>\n",
       "</table>\n",
       "</div>"
      ],
      "text/plain": [
       "              Coef\n",
       "warmup   -4.477116\n",
       "headless -4.672979\n",
       "love     -4.678711\n",
       "5600xt   -4.695682\n",
       "advise   -4.695682\n",
       "vs       -4.743654\n",
       "grinding -4.770720\n",
       "advice   -4.868249\n",
       "demake   -5.264791\n",
       "worth    -5.720662"
      ]
     },
     "execution_count": 23,
     "metadata": {},
     "output_type": "execute_result"
    }
   ],
   "source": [
    "coefs.sort_values('Coef', ascending = False).tail(10)"
   ]
  },
  {
   "cell_type": "code",
   "execution_count": 24,
   "id": "f23cee90-a7c8-4442-a7e7-13266252439b",
   "metadata": {},
   "outputs": [],
   "source": [
    "with open('../pickels/logregmodel_coefs.pkl', mode ='wb') as pickle_out:\n",
    "    pickle.dump(coefs, pickle_out)"
   ]
  },
  {
   "cell_type": "code",
   "execution_count": 28,
   "id": "0b008751-9f53-4450-8939-21b7a17a7bed",
   "metadata": {},
   "outputs": [],
   "source": [
    "from sklearn.metrics import plot_confusion_matrix\n",
    "%matplotlib inline"
   ]
  },
  {
   "cell_type": "code",
   "execution_count": 30,
   "id": "5476b02f-48a0-47e9-b7c0-8cf0fe88da8a",
   "metadata": {},
   "outputs": [
    {
     "data": {
      "image/png": "[encoded data removed]",
      "text/plain": [
       "<Figure size 432x288 with 2 Axes>"
      ]
     },
     "metadata": {
      "needs_background": "light"
     },
     "output_type": "display_data"
    }
   ],
   "source": [
    "plot_confusion_matrix(lr, X_test_df, y_test, cmap = 'gray_r');\n",
    "plt.title('Logistic Regression Matrix (Title)');\n",
    "plt.savefig('../output/logreg-title-matrix.png')"
   ]
  },
  {
   "cell_type": "code",
   "execution_count": null,
   "id": "5119cac5-d755-4898-95b3-d7a24d1c37ec",
   "metadata": {},
   "outputs": [],
   "source": []
  }
 ],
 "metadata": {
  "kernelspec": {
   "display_name": "Python 3",
   "language": "python",
   "name": "python3"
  },
  "language_info": {
   "codemirror_mode": {
    "name": "ipython",
    "version": 3
   },
   "file_extension": ".py",
   "mimetype": "text/x-python",
   "name": "python",
   "nbconvert_exporter": "python",
   "pygments_lexer": "ipython3",
   "version": "3.8.11"
  }
 },
 "nbformat": 4,
 "nbformat_minor": 5
}
