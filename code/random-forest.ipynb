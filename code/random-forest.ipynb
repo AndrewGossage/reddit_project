{
 "cells": [
  {
   "cell_type": "markdown",
   "id": "67263a66-e0fe-44f3-9583-fe3637daee5a",
   "metadata": {},
   "source": [
    "<h1>Random forest model</h1>"
   ]
  },
  {
   "cell_type": "markdown",
   "id": "3bf95929-d357-4341-a3ad-e603f2906a11",
   "metadata": {},
   "source": [
    "<h2>imports</h2>"
   ]
  },
  {
   "cell_type": "code",
   "execution_count": 2,
   "id": "0448cfa9-71a9-4c65-9f16-f062e1cf1a8a",
   "metadata": {},
   "outputs": [],
   "source": [
    "from sklearn.ensemble import RandomForestClassifier\n",
    "from sklearn.model_selection import GridSearchCV\n",
    "import matplotlib.pyplot as plt\n",
    "import pickle\n"
   ]
  },
  {
   "cell_type": "code",
   "execution_count": 3,
   "id": "b1925bbc-c655-48a0-87ac-16eff84425c4",
   "metadata": {},
   "outputs": [],
   "source": [
    "\n",
    "with open('../pickels/X_test_text.pkl', mode ='rb') as pickle_in:\n",
    "    X_test = pickle.load(pickle_in)\n",
    "    \n",
    "with open('../pickels/X_train_text.pkl', mode ='rb') as pickle_in:\n",
    "    X_train = pickle.load(pickle_in)\n",
    "    \n",
    "with open('../pickels/y_test_text.pkl', mode ='rb') as pickle_in:\n",
    "    y_test = pickle.load(pickle_in)\n",
    "    \n",
    "with open('../pickels/y_train_text.pkl', mode ='rb') as pickle_in:\n",
    "    y_train = pickle.load(pickle_in)\n",
    "    "
   ]
  },
  {
   "cell_type": "code",
   "execution_count": null,
   "id": "13bb4fc3-319e-476f-aac2-6fcd3ad42a11",
   "metadata": {},
   "outputs": [],
   "source": [
    "%%time\n",
    "rf = RandomForestClassifier()\n",
    "params = {\n",
    "    'max_depth':[5,10,50,100],\n",
    "    'min_samples_split':[15,20,25,30],\n",
    "    'min_samples_leaf':[15,20,25,30],\n",
    "    \n",
    "\n",
    "}\n",
    "\n",
    "gs = GridSearchCV(rf, params, n_jobs = -1, cv = 5)\n",
    "gs.fit(X_train, y_train)\n",
    "gs.best_params_, gs.best_score_.mean()"
   ]
  },
  {
   "cell_type": "code",
   "execution_count": null,
   "id": "043e8d51-ed52-4770-a999-0b52e5edeb4c",
   "metadata": {},
   "outputs": [],
   "source": [
    "\n"
   ]
  },
  {
   "cell_type": "code",
   "execution_count": null,
   "id": "ac4b35cb-301c-45a9-a730-20b64f01e9ed",
   "metadata": {},
   "outputs": [],
   "source": []
  },
  {
   "cell_type": "code",
   "execution_count": null,
   "id": "b1dccfe0-dd5f-4600-8a6b-a5ff8b50cecb",
   "metadata": {},
   "outputs": [],
   "source": [
    "with open('../pickels/randomforest.pkl', mode ='wb') as pickle_out:\n",
    "    pickle.dump(gs, pickle_out)\n",
    "    "
   ]
  },
  {
   "cell_type": "code",
   "execution_count": null,
   "id": "86291120-a14e-4185-8755-02656ab16fd3",
   "metadata": {},
   "outputs": [],
   "source": [
    "with open('../pickels/randomforest.pkl', mode ='rb') as pickle_in:\n",
    "    rs = pickle.load(pickle_in)"
   ]
  },
  {
   "cell_type": "code",
   "execution_count": null,
   "id": "22e521cf-0602-421a-89bd-3f367b7d165d",
   "metadata": {},
   "outputs": [],
   "source": [
    "from sklearn import metrics"
   ]
  },
  {
   "cell_type": "code",
   "execution_count": null,
   "id": "e726e947-ca14-4aa1-ad63-cd6e113be39c",
   "metadata": {},
   "outputs": [],
   "source": [
    "\n"
   ]
  },
  {
   "cell_type": "code",
   "execution_count": null,
   "id": "6508a4c0-bca1-42a4-89fe-a4385e9141ed",
   "metadata": {},
   "outputs": [],
   "source": []
  },
  {
   "cell_type": "code",
   "execution_count": null,
   "id": "64cbc28c-5295-417b-bb90-88399251bae4",
   "metadata": {},
   "outputs": [],
   "source": []
  }
 ],
 "metadata": {
  "kernelspec": {
   "display_name": "Python 3",
   "language": "python",
   "name": "python3"
  },
  "language_info": {
   "codemirror_mode": {
    "name": "ipython",
    "version": 3
   },
   "file_extension": ".py",
   "mimetype": "text/x-python",
   "name": "python",
   "nbconvert_exporter": "python",
   "pygments_lexer": "ipython3",
   "version": "3.8.11"
  }
 },
 "nbformat": 4,
 "nbformat_minor": 5
}
